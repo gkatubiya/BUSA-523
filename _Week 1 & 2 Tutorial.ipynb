{
 "cells": [
  {
   "cell_type": "markdown",
   "id": "dd6f042c",
   "metadata": {},
   "source": [
    "# Week 1 - Python Basics\n",
    "\n",
    "- Data types\n",
    "- Operators \n",
    "- Variable Assignment"
   ]
  },
  {
   "cell_type": "code",
   "execution_count": 6,
   "id": "6a3fc5b6",
   "metadata": {},
   "outputs": [
    {
     "name": "stdout",
     "output_type": "stream",
     "text": [
      "Hello World!\n"
     ]
    }
   ],
   "source": [
    "print(\"Hello World!\")"
   ]
  },
  {
   "cell_type": "code",
   "execution_count": 3,
   "id": "f0f32e22",
   "metadata": {},
   "outputs": [
    {
     "name": "stdout",
     "output_type": "stream",
     "text": [
      "<class 'int'>\n"
     ]
    }
   ],
   "source": [
    "# Data types - intergers, floating points and strings \n",
    "\n",
    "num = 1\n",
    "\n",
    "print(type(num))"
   ]
  },
  {
   "cell_type": "code",
   "execution_count": 4,
   "id": "5b1058f4",
   "metadata": {},
   "outputs": [
    {
     "name": "stdout",
     "output_type": "stream",
     "text": [
      "<class 'float'>\n"
     ]
    }
   ],
   "source": [
    "# Data types - intergers, floating points and strings \n",
    "\n",
    "num = 1.1\n",
    "\n",
    "print(type(num))"
   ]
  },
  {
   "cell_type": "code",
   "execution_count": 5,
   "id": "5b44e822",
   "metadata": {},
   "outputs": [
    {
     "name": "stdout",
     "output_type": "stream",
     "text": [
      "<class 'str'>\n"
     ]
    }
   ],
   "source": [
    "# Data types - intergers, floating points and strings \n",
    "\n",
    "num = '1.1'\n",
    "\n",
    "print(type(num))"
   ]
  },
  {
   "cell_type": "code",
   "execution_count": 7,
   "id": "4734f2d7",
   "metadata": {},
   "outputs": [
    {
     "name": "stdout",
     "output_type": "stream",
     "text": [
      "this is python tutorial\n"
     ]
    }
   ],
   "source": [
    "# String Operations \n",
    "\n",
    "name = 'this is python tutorial'\n",
    "\n",
    "print(name)"
   ]
  },
  {
   "cell_type": "code",
   "execution_count": 9,
   "id": "98779088",
   "metadata": {},
   "outputs": [
    {
     "name": "stdout",
     "output_type": "stream",
     "text": [
      "This Is Python Tutorial\n"
     ]
    }
   ],
   "source": [
    "print(name.title())"
   ]
  },
  {
   "cell_type": "code",
   "execution_count": 10,
   "id": "7578a6f6",
   "metadata": {},
   "outputs": [
    {
     "name": "stdout",
     "output_type": "stream",
     "text": [
      "THIS IS PYTHON TUTORIAL\n"
     ]
    }
   ],
   "source": [
    "print(name.upper())"
   ]
  },
  {
   "cell_type": "code",
   "execution_count": 11,
   "id": "f1d689e5",
   "metadata": {},
   "outputs": [
    {
     "name": "stdout",
     "output_type": "stream",
     "text": [
      "this is python tutorial\n"
     ]
    }
   ],
   "source": [
    "print(name.lower())"
   ]
  },
  {
   "cell_type": "code",
   "execution_count": 12,
   "id": "5ce9573f",
   "metadata": {},
   "outputs": [
    {
     "data": {
      "text/plain": [
       "'this is python tutorialTAMUC'"
      ]
     },
     "execution_count": 12,
     "metadata": {},
     "output_type": "execute_result"
    }
   ],
   "source": [
    "other = \"TAMUC\"\n",
    "\n",
    "name + other"
   ]
  },
  {
   "cell_type": "code",
   "execution_count": 13,
   "id": "3e4869c5",
   "metadata": {},
   "outputs": [
    {
     "data": {
      "text/plain": [
       "'this is python tutorial TAMUC'"
      ]
     },
     "execution_count": 13,
     "metadata": {},
     "output_type": "execute_result"
    }
   ],
   "source": [
    "other = \"TAMUC\"\n",
    "\n",
    "name + \" \" + other"
   ]
  },
  {
   "cell_type": "code",
   "execution_count": 14,
   "id": "15fc3ef0",
   "metadata": {},
   "outputs": [
    {
     "name": "stdout",
     "output_type": "stream",
     "text": [
      "this is python tutorial TAMUC\n"
     ]
    }
   ],
   "source": [
    "print(name+\" \"+ other)"
   ]
  },
  {
   "cell_type": "code",
   "execution_count": 17,
   "id": "ae9b9d9a",
   "metadata": {},
   "outputs": [
    {
     "name": "stdout",
     "output_type": "stream",
     "text": [
      "\tBUSA 511 \n",
      "BUSA 523\n"
     ]
    }
   ],
   "source": [
    "print(\"\\tBUSA 511 \\nBUSA 523\")"
   ]
  },
  {
   "cell_type": "code",
   "execution_count": 19,
   "id": "02b5d78c",
   "metadata": {},
   "outputs": [
    {
     "name": "stdout",
     "output_type": "stream",
     "text": [
      " texas\n",
      "texas \n",
      "texas\n"
     ]
    }
   ],
   "source": [
    "state = \" texas \"\n",
    "print(state.rstrip())\n",
    "print(state.lstrip())\n",
    "print(state.strip())"
   ]
  },
  {
   "cell_type": "markdown",
   "id": "382c9617",
   "metadata": {},
   "source": [
    "# Operators with int & float \n",
    "\n",
    "- Exponent \n",
    "- Modulus \n",
    "- Quotient\n",
    "- Division \n",
    "- Multiplication \n",
    "- Subtraction\n",
    "- Addition"
   ]
  },
  {
   "cell_type": "code",
   "execution_count": 20,
   "id": "d9905505",
   "metadata": {},
   "outputs": [
    {
     "data": {
      "text/plain": [
       "8"
      ]
     },
     "execution_count": 20,
     "metadata": {},
     "output_type": "execute_result"
    }
   ],
   "source": [
    "#Exponent - power of \n",
    "\n",
    "2**3"
   ]
  },
  {
   "cell_type": "code",
   "execution_count": 21,
   "id": "61083d78",
   "metadata": {},
   "outputs": [
    {
     "data": {
      "text/plain": [
       "6"
      ]
     },
     "execution_count": 21,
     "metadata": {},
     "output_type": "execute_result"
    }
   ],
   "source": [
    "#Modulus - remainder\n",
    "\n",
    "22%8"
   ]
  },
  {
   "cell_type": "code",
   "execution_count": 23,
   "id": "127cd968",
   "metadata": {},
   "outputs": [
    {
     "data": {
      "text/plain": [
       "2"
      ]
     },
     "execution_count": 23,
     "metadata": {},
     "output_type": "execute_result"
    }
   ],
   "source": [
    "# Quotient\n",
    "\n",
    "22//8"
   ]
  },
  {
   "cell_type": "code",
   "execution_count": 24,
   "id": "b1553c67",
   "metadata": {},
   "outputs": [
    {
     "data": {
      "text/plain": [
       "2.75"
      ]
     },
     "execution_count": 24,
     "metadata": {},
     "output_type": "execute_result"
    }
   ],
   "source": [
    "# Division \n",
    "\n",
    "22/8"
   ]
  },
  {
   "cell_type": "code",
   "execution_count": 25,
   "id": "3636032a",
   "metadata": {},
   "outputs": [
    {
     "data": {
      "text/plain": [
       "15"
      ]
     },
     "execution_count": 25,
     "metadata": {},
     "output_type": "execute_result"
    }
   ],
   "source": [
    "# Multiplication \n",
    "\n",
    "3*5"
   ]
  },
  {
   "cell_type": "code",
   "execution_count": 26,
   "id": "3c5a20c4",
   "metadata": {},
   "outputs": [
    {
     "data": {
      "text/plain": [
       "3"
      ]
     },
     "execution_count": 26,
     "metadata": {},
     "output_type": "execute_result"
    }
   ],
   "source": [
    "# Subtraction \n",
    "\n",
    "5-2"
   ]
  },
  {
   "cell_type": "code",
   "execution_count": 27,
   "id": "b45621b9",
   "metadata": {},
   "outputs": [
    {
     "data": {
      "text/plain": [
       "4"
      ]
     },
     "execution_count": 27,
     "metadata": {},
     "output_type": "execute_result"
    }
   ],
   "source": [
    "# Addition \n",
    "\n",
    "2+2"
   ]
  },
  {
   "cell_type": "code",
   "execution_count": 28,
   "id": "ad56a452",
   "metadata": {},
   "outputs": [
    {
     "name": "stdout",
     "output_type": "stream",
     "text": [
      "todaymonday\n"
     ]
    }
   ],
   "source": [
    "name = 'today'\n",
    "\n",
    "name_2 = 'monday'\n",
    "\n",
    "print(name+ name_2)"
   ]
  },
  {
   "cell_type": "code",
   "execution_count": 29,
   "id": "40885879",
   "metadata": {},
   "outputs": [
    {
     "name": "stdout",
     "output_type": "stream",
     "text": [
      "todaytodaytodaytodaytoday\n"
     ]
    }
   ],
   "source": [
    "print(name*5)"
   ]
  },
  {
   "cell_type": "markdown",
   "id": "9fe0686f",
   "metadata": {},
   "source": [
    "### Variable Assignment"
   ]
  },
  {
   "cell_type": "code",
   "execution_count": 31,
   "id": "d08857b8",
   "metadata": {},
   "outputs": [
    {
     "ename": "SyntaxError",
     "evalue": "invalid syntax (Temp/ipykernel_3280/4033658396.py, line 1)",
     "output_type": "error",
     "traceback": [
      "\u001b[1;36m  File \u001b[1;32m\"C:\\Users\\GLADYS~1.KAT\\AppData\\Local\\Temp/ipykernel_3280/4033658396.py\"\u001b[1;36m, line \u001b[1;32m1\u001b[0m\n\u001b[1;33m    new _variable = 50\u001b[0m\n\u001b[1;37m        ^\u001b[0m\n\u001b[1;31mSyntaxError\u001b[0m\u001b[1;31m:\u001b[0m invalid syntax\n"
     ]
    }
   ],
   "source": [
    "new _variable = 50\n",
    "\n",
    "new variable = 50"
   ]
  },
  {
   "cell_type": "code",
   "execution_count": 32,
   "id": "33d9554c",
   "metadata": {},
   "outputs": [
    {
     "ename": "SyntaxError",
     "evalue": "invalid syntax (Temp/ipykernel_3280/1004308865.py, line 1)",
     "output_type": "error",
     "traceback": [
      "\u001b[1;36m  File \u001b[1;32m\"C:\\Users\\GLADYS~1.KAT\\AppData\\Local\\Temp/ipykernel_3280/1004308865.py\"\u001b[1;36m, line \u001b[1;32m1\u001b[0m\n\u001b[1;33m    new$variable = 50\u001b[0m\n\u001b[1;37m       ^\u001b[0m\n\u001b[1;31mSyntaxError\u001b[0m\u001b[1;31m:\u001b[0m invalid syntax\n"
     ]
    }
   ],
   "source": [
    "new$variable = 50 "
   ]
  },
  {
   "cell_type": "code",
   "execution_count": 33,
   "id": "494eccf7",
   "metadata": {},
   "outputs": [
    {
     "ename": "SyntaxError",
     "evalue": "invalid decimal literal (Temp/ipykernel_3280/1120337252.py, line 1)",
     "output_type": "error",
     "traceback": [
      "\u001b[1;36m  File \u001b[1;32m\"C:\\Users\\GLADYS~1.KAT\\AppData\\Local\\Temp/ipykernel_3280/1120337252.py\"\u001b[1;36m, line \u001b[1;32m1\u001b[0m\n\u001b[1;33m    2_name = 50\u001b[0m\n\u001b[1;37m     ^\u001b[0m\n\u001b[1;31mSyntaxError\u001b[0m\u001b[1;31m:\u001b[0m invalid decimal literal\n"
     ]
    }
   ],
   "source": [
    "2_name = 50 "
   ]
  },
  {
   "cell_type": "code",
   "execution_count": 34,
   "id": "5abd21d6",
   "metadata": {},
   "outputs": [
    {
     "name": "stdout",
     "output_type": "stream",
     "text": [
      "50\n"
     ]
    }
   ],
   "source": [
    "name_2 = 50 \n",
    "\n",
    "print (name_2)"
   ]
  },
  {
   "cell_type": "markdown",
   "id": "d4767af3",
   "metadata": {},
   "source": [
    "# Week 2 Loops"
   ]
  },
  {
   "cell_type": "code",
   "execution_count": 37,
   "id": "f68d5d80",
   "metadata": {},
   "outputs": [
    {
     "name": "stdout",
     "output_type": "stream",
     "text": [
      "False\n"
     ]
    }
   ],
   "source": [
    "# Examples of operators and boolean values \n",
    "\n",
    "age_sam = 10 \n",
    "age_lily = 15 \n",
    "\n",
    "print(age_sam == age_lily)"
   ]
  },
  {
   "cell_type": "code",
   "execution_count": 38,
   "id": "8095d5bd",
   "metadata": {},
   "outputs": [
    {
     "name": "stdout",
     "output_type": "stream",
     "text": [
      "True\n"
     ]
    }
   ],
   "source": [
    "# Examples of operators and boolean values \n",
    "\n",
    "age_sam = 10 \n",
    "age_lily = 15 \n",
    "\n",
    "print(age_sam != age_lily)"
   ]
  },
  {
   "cell_type": "code",
   "execution_count": 39,
   "id": "312ddb3a",
   "metadata": {},
   "outputs": [
    {
     "name": "stdout",
     "output_type": "stream",
     "text": [
      "True\n"
     ]
    }
   ],
   "source": [
    "age_sam = 10 \n",
    "age_lily = 15 \n",
    "\n",
    "print(age_sam < age_lily)"
   ]
  },
  {
   "cell_type": "code",
   "execution_count": 40,
   "id": "80d5e56c",
   "metadata": {},
   "outputs": [
    {
     "name": "stdout",
     "output_type": "stream",
     "text": [
      "False\n"
     ]
    }
   ],
   "source": [
    "age_sam = 10 \n",
    "age_lily = 15 \n",
    "\n",
    "print(age_sam > age_lily)"
   ]
  },
  {
   "cell_type": "code",
   "execution_count": 41,
   "id": "a30fc8e4",
   "metadata": {},
   "outputs": [
    {
     "name": "stdout",
     "output_type": "stream",
     "text": [
      "True\n"
     ]
    }
   ],
   "source": [
    "age_sam = 10 \n",
    "age_lily = 15 \n",
    "\n",
    "print(age_sam <= age_lily)"
   ]
  },
  {
   "cell_type": "code",
   "execution_count": 42,
   "id": "c0475cf3",
   "metadata": {},
   "outputs": [
    {
     "name": "stdout",
     "output_type": "stream",
     "text": [
      "False\n"
     ]
    }
   ],
   "source": [
    "age_sam = 10 \n",
    "age_lily = 15 \n",
    "\n",
    "print(age_sam >= age_lily)"
   ]
  },
  {
   "cell_type": "code",
   "execution_count": 44,
   "id": "1491d883",
   "metadata": {},
   "outputs": [
    {
     "name": "stdout",
     "output_type": "stream",
     "text": [
      "True\n",
      "True\n"
     ]
    }
   ],
   "source": [
    "# Mixing Boolean and Comparison Operators\n",
    "\n",
    "print(True or False)\n",
    "\n",
    "# Credit card - credit score > 720 & age > 25\n",
    "\n",
    "credit_score = 750 \n",
    "age = 31\n",
    "\n",
    "credit_check = credit_score > 720\n",
    "age_check = age > 25\n",
    "\n",
    "print(credit_check and age_check)"
   ]
  },
  {
   "cell_type": "code",
   "execution_count": 46,
   "id": "2cd29265",
   "metadata": {},
   "outputs": [
    {
     "name": "stdout",
     "output_type": "stream",
     "text": [
      "False\n"
     ]
    }
   ],
   "source": [
    "credit_score = 710 \n",
    "age = 31\n",
    "\n",
    "credit_check = credit_score > 720\n",
    "age_check = age >25\n",
    "\n",
    "print(credit_check and age_check)"
   ]
  },
  {
   "cell_type": "code",
   "execution_count": 47,
   "id": "a983302f",
   "metadata": {},
   "outputs": [
    {
     "name": "stdout",
     "output_type": "stream",
     "text": [
      "True\n"
     ]
    }
   ],
   "source": [
    "credit_score = 710 \n",
    "age = 31\n",
    "\n",
    "credit_check = credit_score > 720\n",
    "age_check = age >25\n",
    "\n",
    "print(credit_check or age_check)\n",
    "\n",
    "# One criteria is met, which is the age of the person "
   ]
  },
  {
   "cell_type": "code",
   "execution_count": 53,
   "id": "df72d11d",
   "metadata": {},
   "outputs": [
    {
     "name": "stdout",
     "output_type": "stream",
     "text": [
      "Hi, Alice!\n"
     ]
    }
   ],
   "source": [
    "# Example of an \"if\" statement \n",
    "\n",
    "name = \"Alice\"\n",
    "\n",
    "if name == \"Alice\":\n",
    "    print(\"Hi, Alice!\")"
   ]
  },
  {
   "cell_type": "code",
   "execution_count": 54,
   "id": "e739602d",
   "metadata": {},
   "outputs": [],
   "source": [
    "# Example of an \"if\" statement \n",
    "\n",
    "name = \"Jen\"\n",
    "\n",
    "if name == \"Alice\":\n",
    "    print(\"Hi, Alice!\")"
   ]
  },
  {
   "cell_type": "code",
   "execution_count": 55,
   "id": "986ee5c1",
   "metadata": {},
   "outputs": [
    {
     "name": "stdout",
     "output_type": "stream",
     "text": [
      "Hi, Alice!\n"
     ]
    }
   ],
   "source": [
    "# Example of an \"else\" statement\n",
    "\n",
    "name = \"Alice\"\n",
    "\n",
    "if name == \"Alice\":\n",
    "    print(\"Hi, Alice!\")   \n",
    "else:\n",
    "    print (\"Hello Stranger!\")\n"
   ]
  },
  {
   "cell_type": "code",
   "execution_count": 56,
   "id": "3400fa42",
   "metadata": {},
   "outputs": [
    {
     "name": "stdout",
     "output_type": "stream",
     "text": [
      "Hello Stranger!\n"
     ]
    }
   ],
   "source": [
    "name = \"Jen\"\n",
    "\n",
    "if name == \"Alice\":\n",
    "    print(\"Hi, Alice!\")   \n",
    "else:\n",
    "    print (\"Hello Stranger!\")"
   ]
  },
  {
   "cell_type": "code",
   "execution_count": 58,
   "id": "7a42f0ff",
   "metadata": {},
   "outputs": [
    {
     "name": "stdout",
     "output_type": "stream",
     "text": [
      "1954\n",
      "baby boomers\n"
     ]
    }
   ],
   "source": [
    "# Example of \"Elif\" statement \n",
    "\n",
    "# gen z > 1996, millenials - 1981, 1996, gen x -1965, 1980, baby boomers < 1964\n",
    "\n",
    "year = int(input())\n",
    "\n",
    "if year > 1996: \n",
    "    print(\"gen z\")\n",
    "elif year <= 1996 and year >= 1981:\n",
    "    print (\"millenials\")\n",
    "elif year <=1980 and year >= 1965: \n",
    "    print (\"gen x\")\n",
    "elif year <= 1964:\n",
    "    print (\"baby boomers\")"
   ]
  },
  {
   "cell_type": "code",
   "execution_count": 62,
   "id": "4432f6ae",
   "metadata": {},
   "outputs": [
    {
     "name": "stdout",
     "output_type": "stream",
     "text": [
      "1985\n",
      "millenials\n"
     ]
    }
   ],
   "source": [
    "# Example of \"Elif\" statement \n",
    "\n",
    "# gen z > 1996, millenials - 1981, 1996, gen x -1965, 1980, baby boomers < 1964\n",
    "\n",
    "year = int(input())\n",
    "\n",
    "if year > 1996: \n",
    "    print(\"gen z\")\n",
    "elif year <= 1996 and year >= 1981:\n",
    "    print (\"millenials\")\n",
    "elif year <=1980 and year >= 1965: \n",
    "    print (\"gen x\")\n",
    "elif year <= 1964:\n",
    "    print (\"baby boomers\")"
   ]
  },
  {
   "cell_type": "code",
   "execution_count": 64,
   "id": "2dcec2e6",
   "metadata": {},
   "outputs": [
    {
     "name": "stdout",
     "output_type": "stream",
     "text": [
      "take an umbrella\n"
     ]
    }
   ],
   "source": [
    "#Example - if, elif and else \n",
    "\n",
    "# Hot => 35, Cold <= 15, Rain = Boolean\n",
    "\n",
    "temp = 25\n",
    "rain = True \n",
    "\n",
    "if temp  > 35: \n",
    "    print(\"put on sunscreen\")\n",
    "elif temp < 15: \n",
    "    print(\"take a jacket\")\n",
    "elif rain == True:\n",
    "    print(\"take an umbrella\")\n",
    "else:\n",
    "    print(\"you can go outside\")\n"
   ]
  },
  {
   "cell_type": "code",
   "execution_count": 65,
   "id": "623ad923",
   "metadata": {},
   "outputs": [
    {
     "name": "stdout",
     "output_type": "stream",
     "text": [
      "you can go outside\n"
     ]
    }
   ],
   "source": [
    "#Example - if, elif and else \n",
    "\n",
    "# Hot => 35, Cold <= 15, Rain = Boolean\n",
    "\n",
    "temp = 25\n",
    "rain = False \n",
    "\n",
    "if temp  > 35: \n",
    "    print(\"put on sunscreen\")\n",
    "elif temp < 15: \n",
    "    print(\"take a jacket\")\n",
    "elif rain == True:\n",
    "    print(\"take an umbrella\")\n",
    "else:\n",
    "    print(\"you can go outside\")"
   ]
  },
  {
   "cell_type": "code",
   "execution_count": 66,
   "id": "cb3fcc86",
   "metadata": {},
   "outputs": [
    {
     "name": "stdout",
     "output_type": "stream",
     "text": [
      "put on sunscreen\n"
     ]
    }
   ],
   "source": [
    "#Example - if, elif and else \n",
    "\n",
    "# Hot => 35, Cold <= 15, Rain = Boolean\n",
    "\n",
    "temp = 37\n",
    "rain = True \n",
    "\n",
    "if temp  > 35: \n",
    "    print(\"put on sunscreen\")\n",
    "elif temp < 15: \n",
    "    print(\"take a jacket\")\n",
    "elif rain == True:\n",
    "    print(\"take an umbrella\")\n",
    "else:\n",
    "    print(\"you can go outside\")\n",
    "    \n",
    "    #The first condition that is true will be reflected in result even if it meets two criterias. In this case rain is true too. "
   ]
  },
  {
   "cell_type": "code",
   "execution_count": 67,
   "id": "40cd4968",
   "metadata": {},
   "outputs": [
    {
     "name": "stdout",
     "output_type": "stream",
     "text": [
      "Hello World!\n",
      "1\n",
      "Hello World!\n",
      "2\n",
      "Hello World!\n",
      "3\n",
      "Hello World!\n",
      "4\n",
      "Hello World!\n",
      "5\n"
     ]
    }
   ],
   "source": [
    "# Example of \"while\" loop\n",
    "\n",
    "spam = 0 \n",
    "\n",
    "while spam < 5:\n",
    "    print(\"Hello World!\")\n",
    "    spam = spam + 1\n",
    "    print(spam)\n",
    "    "
   ]
  },
  {
   "cell_type": "code",
   "execution_count": 69,
   "id": "d06b3639",
   "metadata": {},
   "outputs": [
    {
     "name": "stdout",
     "output_type": "stream",
     "text": [
      "Hello World!\n",
      "1\n"
     ]
    }
   ],
   "source": [
    " # Compare \"if\" and \"while\"\n",
    "    \n",
    "spam = 0 \n",
    "\n",
    "if spam < 5: \n",
    "    print(\"Hello World!\")\n",
    "    spam = spam + 1\n",
    "    print(spam)"
   ]
  },
  {
   "cell_type": "code",
   "execution_count": 71,
   "id": "2ec02997",
   "metadata": {},
   "outputs": [
    {
     "name": "stdout",
     "output_type": "stream",
     "text": [
      "Hello World!\n",
      "Hello World!\n",
      "Hello World!\n",
      "Hello World!\n",
      "Hello World!\n",
      "Hello World!\n"
     ]
    }
   ],
   "source": [
    "# Example of \"break\" statement \n",
    "spam = 0 \n",
    "while spam < 10: \n",
    "    print(\"Hello World!\")\n",
    "    spam = spam + 1\n",
    "    \n",
    "    if spam > 5: \n",
    "        break\n",
    "    \n"
   ]
  },
  {
   "cell_type": "code",
   "execution_count": 72,
   "id": "441bb2e2",
   "metadata": {},
   "outputs": [
    {
     "name": "stdout",
     "output_type": "stream",
     "text": [
      "1\n",
      "Hello World\n",
      "2\n",
      "Hello World\n",
      "3\n",
      "Hello World\n",
      "4\n",
      "Hello World\n",
      "5\n",
      "6\n",
      "Hello World\n",
      "7\n",
      "Hello World\n",
      "8\n",
      "Hello World\n",
      "9\n",
      "Hello World\n",
      "10\n",
      "Hello World\n"
     ]
    }
   ],
   "source": [
    "# Example of \"Continue\"\n",
    "\n",
    "spam = 0 \n",
    "\n",
    "while spam < 10: \n",
    "    spam = spam + 1 \n",
    "    print(spam)\n",
    "    if spam == 5: \n",
    "        continue \n",
    "    print (\"Hello World\")"
   ]
  },
  {
   "cell_type": "code",
   "execution_count": 80,
   "id": "7aeb4ff3",
   "metadata": {},
   "outputs": [
    {
     "name": "stdout",
     "output_type": "stream",
     "text": [
      "Hello World!\n",
      "1\n",
      "Hello World!\n",
      "2\n",
      "Hello World!\n",
      "3\n",
      "Hello World!\n",
      "4\n",
      "Hello World!\n",
      "5\n",
      "Hello World!\n",
      "6\n",
      "Hello World!\n",
      "7\n",
      "Hello World!\n",
      "8\n",
      "Hello World!\n",
      "9\n",
      "Hello World!\n",
      "10\n"
     ]
    }
   ],
   "source": [
    "# Example of \"for\" Loop statement \n",
    "\n",
    "spam = 0 \n",
    "\n",
    "for i in range(10):\n",
    "    print(\"Hello World!\")\n",
    "    spam = spam + 1\n",
    "    print(spam)"
   ]
  },
  {
   "cell_type": "code",
   "execution_count": 79,
   "id": "11972b31",
   "metadata": {},
   "outputs": [
    {
     "name": "stdout",
     "output_type": "stream",
     "text": [
      "0\n",
      "1\n",
      "2\n",
      "3\n",
      "4\n",
      "5\n",
      "6\n",
      "7\n",
      "8\n",
      "9\n"
     ]
    }
   ],
   "source": [
    "# Starting, Stopping, and Stepping Arguments to range()\n",
    " \n",
    "for i in range(10):\n",
    "    print(i)"
   ]
  },
  {
   "cell_type": "code",
   "execution_count": 81,
   "id": "3443a41f",
   "metadata": {},
   "outputs": [
    {
     "name": "stdout",
     "output_type": "stream",
     "text": [
      "2\n",
      "5\n",
      "8\n"
     ]
    }
   ],
   "source": [
    "# Starting, Stopping, and Stepping Arguments to range()\n",
    " \n",
    "for i in range(2,10,3):\n",
    "    print(i)"
   ]
  },
  {
   "cell_type": "markdown",
   "id": "b35b714e",
   "metadata": {},
   "source": [
    "# Example - Rock Paper Scissors"
   ]
  },
  {
   "cell_type": "markdown",
   "id": "8bb8fe5f",
   "metadata": {},
   "source": [
    "- Take user input \n",
    "- Randomly select a value between 1 and 3 \n",
    "    - if value == 1, then computer = Rock \n",
    "    - if value == 2, then computer = Paper \n",
    "    - if value == 3, then computer = Scissors\n",
    "- Compare both user input to computer move \n",
    "    - if user input  == computer\n",
    "        - Tie \n",
    "    - if User == \"Rock\" & Computer == \"Scissors\"\n",
    "        - You Win \n",
    "    - if User == \"Scissor\" & Computer == \"Paper\"\n",
    "        - You Win \n",
    "    - if User == \"Paper\" & Computer == \"Rock\"\n",
    "        - You Win \n",
    "    - else: \n",
    "        - You Lose"
   ]
  },
  {
   "cell_type": "code",
   "execution_count": 84,
   "id": "639080ed",
   "metadata": {},
   "outputs": [
    {
     "name": "stdout",
     "output_type": "stream",
     "text": [
      "Enter your move: Rock, Paper or Scissors\n",
      "Rock\n",
      "You Lose!\n"
     ]
    }
   ],
   "source": [
    "import random\n",
    "\n",
    "print(\"Enter your move: Rock, Paper or Scissors\")\n",
    "user = input()\n",
    "\n",
    "number = random.randint(1,3)\n",
    "\n",
    "if number == 1: \n",
    "    computer = \"Rock\"\n",
    "elif number == 2:\n",
    "    computer = \"Paper\"\n",
    "elif number == 3:\n",
    "    computer = \"Scissors\"\n",
    "\n",
    "if user == computer : \n",
    "    print(\"It's a Tie!\")\n",
    "elif user == \"Rock\" and computer == \"Scissors\": \n",
    "    print(\"You Win!\")\n",
    "elif user == \"Paper\" and computer == \"Rock\": \n",
    "    print(\"You Win!\")\n",
    "elif user == \"Scissors\" and computer == \"Paper\": \n",
    "    print(\"You Win!\")\n",
    "elif user == \"Rock\" and computer == \"Paper\": \n",
    "    print(\"You Lose!\")\n",
    "elif user == \"Paper\" and computer == \"Scissors\": \n",
    "    print(\"You Lose!\")\n",
    "elif user == \"Scissors\" and computer == \"Rock\": \n",
    "    print(\"You Lose!\")\n",
    "else: \n",
    "    print(\"Invalid entry!\")"
   ]
  }
 ],
 "metadata": {
  "kernelspec": {
   "display_name": "Python 3 (ipykernel)",
   "language": "python",
   "name": "python3"
  },
  "language_info": {
   "codemirror_mode": {
    "name": "ipython",
    "version": 3
   },
   "file_extension": ".py",
   "mimetype": "text/x-python",
   "name": "python",
   "nbconvert_exporter": "python",
   "pygments_lexer": "ipython3",
   "version": "3.9.7"
  }
 },
 "nbformat": 4,
 "nbformat_minor": 5
}
