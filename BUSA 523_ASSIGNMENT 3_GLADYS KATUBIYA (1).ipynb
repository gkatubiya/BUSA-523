{
 "cells": [
  {
   "cell_type": "code",
   "execution_count": 3,
   "id": "87ce8c9f",
   "metadata": {},
   "outputs": [
    {
     "name": "stdout",
     "output_type": "stream",
     "text": [
      "Good\n",
      "Average\n",
      "Bad\n"
     ]
    }
   ],
   "source": [
    "# Create a class to store student records\n",
    "\n",
    "class student_records:\n",
    "    \n",
    "    def __init__(self,first_name, last_name, country, overall_grade, credits_completed, major):\n",
    "        self.first_name = first_name \n",
    "        self.last_name = last_name \n",
    "        self.country = country \n",
    "        self.overall_grade = float(overall_grade)\n",
    "        self.credits_completed = int(credits_completed)\n",
    "        self.major = major \n",
    "    \n",
    "    def student_progress(self):\n",
    "        if (self.overall_grade > 3.0 and self.credits_completed > 20):\n",
    "            print(\"Good\")\n",
    "        elif (self.overall_grade > 2.5 and self.credits_completed > 10 and self.credits_completed < 20):\n",
    "            print(\"Average\")\n",
    "        elif (self.overall_grade < 2.5):\n",
    "            print(\"Bad\")\n",
    "        \n",
    "        \n",
    "student_1 = student_records(\"Gladys\",\"Katubiya\",\"Zambia\",4.0, 24,\"Business Analytics\")\n",
    "student_1.student_progress()\n",
    "student_2 = student_records(\"John\",\"Doe\",\"Nigeria\",2.6,15,\"Business Analytics\")\n",
    "student_2.student_progress()\n",
    "student_3 = student_records(\"Kyle\",\"Douglas\",\"USA\",2.0,9,\"Business Analytics\")\n",
    "student_3.student_progress()\n",
    "    "
   ]
  },
  {
   "cell_type": "code",
   "execution_count": 4,
   "id": "f9ca6b12",
   "metadata": {},
   "outputs": [
    {
     "name": "stdout",
     "output_type": "stream",
     "text": [
      "[-6, -3, -2, -8]\n",
      "[5, 1, 0, 9, 3]\n"
     ]
    }
   ],
   "source": [
    "# Write a function which separates the positive and negative numbers from a\n",
    "# list of numbers.\n",
    "\n",
    "import numpy as np\n",
    "\n",
    "data = [-6,5,-3,-2,1,0,-8,9,3]\n",
    "\n",
    "def seperates():\n",
    "    neg_lst = []\n",
    "    pos_lst = []\n",
    "    for x in data: \n",
    "        if (x >= 0):\n",
    "            pos_lst.append(x)\n",
    "        else: \n",
    "            neg_lst.append(x)\n",
    "        \n",
    "    print(neg_lst)\n",
    "    print(pos_lst)\n",
    "\n",
    "seperates()"
   ]
  },
  {
   "cell_type": "code",
   "execution_count": 5,
   "id": "d18b4e11",
   "metadata": {},
   "outputs": [
    {
     "name": "stdout",
     "output_type": "stream",
     "text": [
      "Enter player's final score is 18\n",
      "Winning possibilities =  [[8, 11], [9, 10], [9, 11], [10, 10], [10, 11]]\n"
     ]
    }
   ],
   "source": [
    "# Write a function which outputs all winning possibilities for a given player’s\n",
    "# score. Assume the score is always between 15 and 21. Further, the dealer is\n",
    "# dealt only 2 cards.\n",
    "\n",
    "\n",
    "def winning_possibilities(): \n",
    "    result = []\n",
    "    \n",
    "    final_score = int(input(\"Enter player's final score is \"))\n",
    "    \n",
    "    for x in range (1, 12):\n",
    "        for y in range (x, 12):\n",
    "            if (final_score < x+y and x+y < 22):\n",
    "                result.append([x,y])\n",
    "                \n",
    "    print(\"Winning possibilities = \", result)\n",
    "\n",
    "\n",
    "winning_possibilities()\n"
   ]
  },
  {
   "cell_type": "code",
   "execution_count": 2,
   "id": "b11bfc65",
   "metadata": {},
   "outputs": [
    {
     "name": "stdout",
     "output_type": "stream",
     "text": [
      "2.36 µs ± 90.8 ns per loop (mean ± std. dev. of 7 runs, 100000 loops each)\n",
      "21.3 µs ± 2.45 µs per loop (mean ± std. dev. of 7 runs, 10000 loops each)\n"
     ]
    }
   ],
   "source": [
    "# Calculate the number of steps & Big O order for the programs in question 2 and 3.\n",
    "# Question 2 \n",
    "\n",
    "import numpy as np\n",
    "\n",
    "data = [-6,5,-3,-2,1,0,-8,9,3]\n",
    "\n",
    "def seperates():\n",
    "    neg_lst = []\n",
    "    pos_lst = []                    # Step 1\n",
    "    for x in data:                  #2*n\n",
    "        if (x >= 0):\n",
    "            pos_lst.append(x)\n",
    "        else: \n",
    "            neg_lst.append(x)\n",
    "\n",
    "\n",
    "# Question 3 \n",
    "\n",
    "def winning_possibilities(): \n",
    "    result = []\n",
    "    final_score = int(15)                            #Step 1\n",
    "    \n",
    "    for x in range (1, 12):                          #2*n\n",
    "        for y in range (x, 12):                      #2*n\n",
    "            if (final_score < x+y and x+y < 22):\n",
    "                result.append([x,y])\n",
    "                \n",
    "                  \n",
    "%timeit seperates()\n",
    "%timeit winning_possibilities()\n",
    "\n",
    "\n",
    "#23600 ns - Question 2 \n",
    "# The equation is 2n+1\n",
    "\n",
    "\n",
    "#21300 ns - Question 3 \n",
    "#The equation is 4n+1\n"
   ]
  },
  {
   "cell_type": "code",
   "execution_count": null,
   "id": "21aef616",
   "metadata": {},
   "outputs": [],
   "source": []
  },
  {
   "cell_type": "code",
   "execution_count": null,
   "id": "1ab1e0c8",
   "metadata": {},
   "outputs": [],
   "source": []
  },
  {
   "cell_type": "code",
   "execution_count": null,
   "id": "ff82d681",
   "metadata": {},
   "outputs": [],
   "source": []
  }
 ],
 "metadata": {
  "kernelspec": {
   "display_name": "Python 3 (ipykernel)",
   "language": "python",
   "name": "python3"
  },
  "language_info": {
   "codemirror_mode": {
    "name": "ipython",
    "version": 3
   },
   "file_extension": ".py",
   "mimetype": "text/x-python",
   "name": "python",
   "nbconvert_exporter": "python",
   "pygments_lexer": "ipython3",
   "version": "3.9.7"
  }
 },
 "nbformat": 4,
 "nbformat_minor": 5
}
