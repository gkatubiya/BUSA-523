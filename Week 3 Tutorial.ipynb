{
 "cells": [
  {
   "cell_type": "code",
   "execution_count": 2,
   "id": "4075c2d2",
   "metadata": {},
   "outputs": [
    {
     "name": "stdout",
     "output_type": "stream",
     "text": [
      "13\n"
     ]
    }
   ],
   "source": [
    "# Example of augumented assignment statements \n",
    "\n",
    "spam = 12\n",
    "\n",
    "# spam = spam + 1\n",
    "\n",
    "spam += 1\n",
    "\n",
    "print(spam)"
   ]
  },
  {
   "cell_type": "code",
   "execution_count": 5,
   "id": "14f5d58a",
   "metadata": {},
   "outputs": [
    {
     "name": "stdout",
     "output_type": "stream",
     "text": [
      "11\n"
     ]
    }
   ],
   "source": [
    "# Equivalent to spam = spam - 1\n",
    "\n",
    "spam = 12\n",
    "\n",
    "spam -= 1\n",
    "\n",
    "print(spam)"
   ]
  },
  {
   "cell_type": "code",
   "execution_count": 6,
   "id": "5abe43f8",
   "metadata": {},
   "outputs": [
    {
     "name": "stdout",
     "output_type": "stream",
     "text": [
      "12\n"
     ]
    }
   ],
   "source": [
    "# Equivalent to spam = spam * 1\n",
    "\n",
    "spam = 12\n",
    "\n",
    "spam *= 1\n",
    "\n",
    "print(spam)"
   ]
  },
  {
   "cell_type": "code",
   "execution_count": 7,
   "id": "f874cc60",
   "metadata": {},
   "outputs": [
    {
     "name": "stdout",
     "output_type": "stream",
     "text": [
      "12.0\n"
     ]
    }
   ],
   "source": [
    "# Equivalent to spam = spam / 1\n",
    "\n",
    "spam = 12\n",
    "\n",
    "spam /= 1\n",
    "\n",
    "print(spam)"
   ]
  },
  {
   "cell_type": "code",
   "execution_count": 8,
   "id": "ad895b62",
   "metadata": {},
   "outputs": [
    {
     "name": "stdout",
     "output_type": "stream",
     "text": [
      "0\n"
     ]
    }
   ],
   "source": [
    "# Equivalent to spam = spam % 1\n",
    "\n",
    "spam = 12\n",
    "\n",
    "spam %= 1\n",
    "\n",
    "print(spam)"
   ]
  },
  {
   "cell_type": "code",
   "execution_count": 16,
   "id": "81b97ca3",
   "metadata": {},
   "outputs": [
    {
     "name": "stdout",
     "output_type": "stream",
     "text": [
      "12\n"
     ]
    },
    {
     "ename": "IndexError",
     "evalue": "list index out of range",
     "output_type": "error",
     "traceback": [
      "\u001b[1;31m---------------------------------------------------------------------------\u001b[0m",
      "\u001b[1;31mIndexError\u001b[0m                                Traceback (most recent call last)",
      "\u001b[1;32mC:\\Users\\GLADYS~1.KAT\\AppData\\Local\\Temp/ipykernel_1688/1508826341.py\u001b[0m in \u001b[0;36m<module>\u001b[1;34m\u001b[0m\n\u001b[0;32m      7\u001b[0m \u001b[1;31m#Example of Index Error\u001b[0m\u001b[1;33m\u001b[0m\u001b[1;33m\u001b[0m\u001b[0m\n\u001b[0;32m      8\u001b[0m \u001b[1;33m\u001b[0m\u001b[0m\n\u001b[1;32m----> 9\u001b[1;33m \u001b[0mprint\u001b[0m\u001b[1;33m(\u001b[0m\u001b[0msales\u001b[0m\u001b[1;33m[\u001b[0m\u001b[1;36m9\u001b[0m\u001b[1;33m]\u001b[0m\u001b[1;33m)\u001b[0m\u001b[1;33m\u001b[0m\u001b[1;33m\u001b[0m\u001b[0m\n\u001b[0m",
      "\u001b[1;31mIndexError\u001b[0m: list index out of range"
     ]
    }
   ],
   "source": [
    "# Example of list and how to access the items within it. \n",
    "\n",
    "sales = [10, 12, 25, 6, 9, 8]\n",
    "\n",
    "print(sales[1])\n",
    "\n",
    "#Example of Index Error \n",
    "\n",
    "print(sales[9])"
   ]
  },
  {
   "cell_type": "code",
   "execution_count": 17,
   "id": "161b5939",
   "metadata": {},
   "outputs": [
    {
     "name": "stdout",
     "output_type": "stream",
     "text": [
      "6\n"
     ]
    }
   ],
   "source": [
    "# Example of len()\n",
    "\n",
    "sales = [10, 12, 25, 6, 9, 8]\n",
    "\n",
    "print(len(sales))"
   ]
  },
  {
   "cell_type": "code",
   "execution_count": 18,
   "id": "130f8960",
   "metadata": {},
   "outputs": [
    {
     "name": "stdout",
     "output_type": "stream",
     "text": [
      "[10, 12, 25, 6, 8]\n"
     ]
    }
   ],
   "source": [
    "# Editing Lists \n",
    "\n",
    "# Example of removing values\n",
    "\n",
    "sales = [10, 12, 25, 6, 9, 8]\n",
    "\n",
    "del sales[4]\n",
    "\n",
    "print(sales)"
   ]
  },
  {
   "cell_type": "code",
   "execution_count": 19,
   "id": "ce7bbfc6",
   "metadata": {},
   "outputs": [
    {
     "name": "stdout",
     "output_type": "stream",
     "text": [
      "[12, 25, 6, 9, 8]\n"
     ]
    }
   ],
   "source": [
    "# Editing Lists \n",
    "\n",
    "# Example of removing values\n",
    "\n",
    "sales = [10, 12, 25, 6, 9, 8]\n",
    "\n",
    "sales.remove(10)\n",
    "\n",
    "print(sales)"
   ]
  },
  {
   "cell_type": "code",
   "execution_count": 20,
   "id": "f8aea556",
   "metadata": {},
   "outputs": [
    {
     "name": "stdout",
     "output_type": "stream",
     "text": [
      "[10, 12, 25, 6, 8]\n"
     ]
    }
   ],
   "source": [
    "# Editing Lists \n",
    "\n",
    "# Example of removing values\n",
    "\n",
    "sales = [10, 12, 25, 6, 9, 8]\n",
    "\n",
    "sales.pop(4)\n",
    "\n",
    "print(sales)"
   ]
  },
  {
   "cell_type": "code",
   "execution_count": 21,
   "id": "f526c909",
   "metadata": {},
   "outputs": [
    {
     "name": "stdout",
     "output_type": "stream",
     "text": [
      "[10, 7, 12, 25, 6, 9, 8]\n"
     ]
    }
   ],
   "source": [
    "# Editing Lists \n",
    "\n",
    "# Example of add values\n",
    "\n",
    "sales = [10, 12, 25, 6, 9, 8]\n",
    "\n",
    "sales.insert(1,7)\n",
    "\n",
    "print(sales)"
   ]
  },
  {
   "cell_type": "code",
   "execution_count": 22,
   "id": "2204571d",
   "metadata": {},
   "outputs": [
    {
     "name": "stdout",
     "output_type": "stream",
     "text": [
      "[10, 12, 25, 6, 9, 8, 13]\n"
     ]
    }
   ],
   "source": [
    "# Editing Lists \n",
    "\n",
    "# Example of add values\n",
    "\n",
    "sales = [10, 12, 25, 6, 9, 8]\n",
    "\n",
    "sales.append(13)\n",
    "\n",
    "print(sales)"
   ]
  },
  {
   "cell_type": "code",
   "execution_count": 24,
   "id": "61d6f327",
   "metadata": {},
   "outputs": [
    {
     "name": "stdout",
     "output_type": "stream",
     "text": [
      "[12, 25, 6]\n"
     ]
    }
   ],
   "source": [
    "# Example of slices\n",
    "\n",
    "sales = [10, 12, 25, 6, 9, 8]\n",
    "\n",
    "new_sales = sales[1:4]\n",
    "\n",
    "print(new_sales)"
   ]
  },
  {
   "cell_type": "code",
   "execution_count": 25,
   "id": "6eed65fb",
   "metadata": {},
   "outputs": [
    {
     "name": "stdout",
     "output_type": "stream",
     "text": [
      "[6, 8, 9, 10, 12, 25]\n"
     ]
    }
   ],
   "source": [
    "# Example of sort and reverse \n",
    "\n",
    "sales.sort()\n",
    "\n",
    "print(sales)"
   ]
  },
  {
   "cell_type": "code",
   "execution_count": 26,
   "id": "450bbf77",
   "metadata": {},
   "outputs": [
    {
     "name": "stdout",
     "output_type": "stream",
     "text": [
      "[25, 12, 10, 9, 8, 6]\n"
     ]
    }
   ],
   "source": [
    "# Example of sort and reverse \n",
    "\n",
    "sales.reverse()\n",
    "\n",
    "print(sales)"
   ]
  },
  {
   "cell_type": "code",
   "execution_count": 29,
   "id": "30fd819e",
   "metadata": {},
   "outputs": [
    {
     "name": "stdout",
     "output_type": "stream",
     "text": [
      "[10, 12, 25, 6, 9, 8, 11, 8, 7]\n"
     ]
    }
   ],
   "source": [
    "# Example of list concatenation and replication\n",
    "\n",
    "sales = [10, 12, 25, 6, 9, 8]\n",
    "\n",
    "new_data = [11, 8, 7]\n",
    "\n",
    "sales = sales + new_data\n",
    "\n",
    "print(sales)"
   ]
  },
  {
   "cell_type": "code",
   "execution_count": 33,
   "id": "1e5c9498",
   "metadata": {},
   "outputs": [
    {
     "name": "stdout",
     "output_type": "stream",
     "text": [
      "[10, 12, 25, 6, 9, 8, 10, 12, 25, 6, 9, 8, 10, 12, 25, 6, 9, 8, 10, 12, 25, 6, 9, 8, 10, 12, 25, 6, 9, 8]\n"
     ]
    }
   ],
   "source": [
    "# Example of list concatenation and replication\n",
    "\n",
    "sales = [10, 12, 25, 6, 9, 8]\n",
    "\n",
    "new_sales = sales*5\n",
    "\n",
    "print(new_sales)"
   ]
  },
  {
   "cell_type": "code",
   "execution_count": 34,
   "id": "f4ec7e50",
   "metadata": {},
   "outputs": [
    {
     "name": "stdout",
     "output_type": "stream",
     "text": [
      "True\n"
     ]
    }
   ],
   "source": [
    "# Example with In and Not In Operators \n",
    "\n",
    "sales = [10, 12, 25, 6, 9, 8]\n",
    "\n",
    "print(10 in sales)"
   ]
  },
  {
   "cell_type": "code",
   "execution_count": 35,
   "id": "d067a346",
   "metadata": {},
   "outputs": [
    {
     "name": "stdout",
     "output_type": "stream",
     "text": [
      "True\n"
     ]
    }
   ],
   "source": [
    "sales = [10, 12, 25, 6, 9, 8]\n",
    "\n",
    "print(11 not in sales)"
   ]
  },
  {
   "cell_type": "code",
   "execution_count": 36,
   "id": "8dd4b096",
   "metadata": {},
   "outputs": [
    {
     "name": "stdout",
     "output_type": "stream",
     "text": [
      "70\n"
     ]
    }
   ],
   "source": [
    "# Example of Using loops in lists \n",
    "\n",
    "sales = [10, 12, 25, 6, 9, 8]\n",
    "\n",
    "total_sales = 0\n",
    "\n",
    "for data in sales: \n",
    "    total_sales += data \n",
    "    \n",
    "print(total_sales)"
   ]
  },
  {
   "cell_type": "code",
   "execution_count": 39,
   "id": "fba89884",
   "metadata": {},
   "outputs": [
    {
     "name": "stdout",
     "output_type": "stream",
     "text": [
      "9\n"
     ]
    }
   ],
   "source": [
    "# Multiple assignment trick\n",
    "\n",
    "sales = [10, 12, 25, 6, 9, 8]\n",
    "\n",
    "'''\n",
    "employee_1 = sales[0]\n",
    "employee_2 = sales[1]\n",
    "employee_3 = sales[2]\n",
    "employee_4 = sales[3]\n",
    "employee_5 = sales[4]\n",
    "employee_6 = sales[5]\n",
    "'''\n",
    "\n",
    "employee_1, employee_2, employee_3, employee_4, employee_5, employee_6 = sales\n",
    "\n",
    "print(employee_5)"
   ]
  },
  {
   "cell_type": "code",
   "execution_count": 42,
   "id": "2213fc23",
   "metadata": {},
   "outputs": [
    {
     "name": "stdout",
     "output_type": "stream",
     "text": [
      "Sales at index 0 is 10\n",
      "Sales at index 1 is 12\n",
      "Sales at index 2 is 25\n",
      "Sales at index 3 is 6\n",
      "Sales at index 4 is 9\n",
      "Sales at index 5 is 8\n"
     ]
    }
   ],
   "source": [
    "# Example of list functions \n",
    "\n",
    "sales = [10, 12, 25, 6, 9, 8]\n",
    "\n",
    "for index,value in enumerate(sales):\n",
    "    print('Sales at index '  + str(index) + ' is ' + str(value))\n"
   ]
  },
  {
   "cell_type": "code",
   "execution_count": 43,
   "id": "edcaf5df",
   "metadata": {},
   "outputs": [
    {
     "name": "stdout",
     "output_type": "stream",
     "text": [
      "6\n"
     ]
    }
   ],
   "source": [
    "# Example of list functions \n",
    "\n",
    "import random \n",
    "\n",
    "sales = [10, 12, 25, 6, 9, 8]\n",
    "\n",
    "print(random.choice(sales))\n"
   ]
  },
  {
   "cell_type": "code",
   "execution_count": 44,
   "id": "71e9b9cb",
   "metadata": {},
   "outputs": [
    {
     "name": "stdout",
     "output_type": "stream",
     "text": [
      "[6, 8, 12, 10, 25, 9]\n"
     ]
    }
   ],
   "source": [
    "import random \n",
    "\n",
    "sales = [10, 12, 25, 6, 9, 8]\n",
    "\n",
    "random.shuffle(sales)\n",
    "\n",
    "print(sales)"
   ]
  },
  {
   "cell_type": "code",
   "execution_count": 48,
   "id": "47d4a5a1",
   "metadata": {},
   "outputs": [
    {
     "name": "stdout",
     "output_type": "stream",
     "text": [
      "[10, 12, 25, 6, 9, 8]\n",
      "[10, 12, 25, 6, 9, 8, 6]\n",
      "[10, 12, 25, 6, 9, 8, 6]\n"
     ]
    }
   ],
   "source": [
    "# Example of passing references in lists \n",
    "\n",
    "# Issues faced when passing on lists\n",
    "\n",
    "sales = [10, 12, 25, 6, 9, 8]\n",
    "\n",
    "data = sales \n",
    "\n",
    "print(data)\n",
    "\n",
    "data.append(6)\n",
    "\n",
    "print(data)\n",
    "print(sales)"
   ]
  },
  {
   "cell_type": "code",
   "execution_count": 49,
   "id": "05922a5f",
   "metadata": {},
   "outputs": [
    {
     "name": "stdout",
     "output_type": "stream",
     "text": [
      "[10, 12, 25, 6, 9, 8, 6]\n",
      "[10, 12, 25, 6, 9, 8]\n"
     ]
    }
   ],
   "source": [
    "# Ways to fix passing on data\n",
    "\n",
    "import copy \n",
    "\n",
    "sales = [10, 12, 25, 6, 9, 8]\n",
    "\n",
    "data = copy.copy(sales)\n",
    "\n",
    "data.append(6)\n",
    "\n",
    "print(data)\n",
    "print(sales)\n",
    "\n"
   ]
  },
  {
   "cell_type": "code",
   "execution_count": 54,
   "id": "611ec867",
   "metadata": {},
   "outputs": [
    {
     "name": "stdout",
     "output_type": "stream",
     "text": [
      "[10, 12, 25, 17, 9, 8]\n"
     ]
    },
    {
     "ename": "TypeError",
     "evalue": "'tuple' object does not support item assignment",
     "output_type": "error",
     "traceback": [
      "\u001b[1;31m---------------------------------------------------------------------------\u001b[0m",
      "\u001b[1;31mTypeError\u001b[0m                                 Traceback (most recent call last)",
      "\u001b[1;32mC:\\Users\\GLADYS~1.KAT\\AppData\\Local\\Temp/ipykernel_1688/3558544749.py\u001b[0m in \u001b[0;36m<module>\u001b[1;34m\u001b[0m\n\u001b[0;32m      9\u001b[0m \u001b[0mprint\u001b[0m\u001b[1;33m(\u001b[0m\u001b[0msales_list\u001b[0m\u001b[1;33m)\u001b[0m\u001b[1;33m\u001b[0m\u001b[1;33m\u001b[0m\u001b[0m\n\u001b[0;32m     10\u001b[0m \u001b[1;33m\u001b[0m\u001b[0m\n\u001b[1;32m---> 11\u001b[1;33m \u001b[0msales\u001b[0m\u001b[1;33m[\u001b[0m\u001b[1;36m3\u001b[0m\u001b[1;33m]\u001b[0m \u001b[1;33m=\u001b[0m \u001b[1;36m17\u001b[0m\u001b[1;33m\u001b[0m\u001b[1;33m\u001b[0m\u001b[0m\n\u001b[0m",
      "\u001b[1;31mTypeError\u001b[0m: 'tuple' object does not support item assignment"
     ]
    }
   ],
   "source": [
    "# Example of Tuples\n",
    "\n",
    "sales = (10, 12, 25, 6, 9, 8)\n",
    "\n",
    "sales_list = [10, 12, 25, 6, 9, 8]\n",
    "\n",
    "sales_list[3] = 17\n",
    "\n",
    "print(sales_list)\n",
    "\n",
    "sales[3] = 17\n"
   ]
  },
  {
   "cell_type": "code",
   "execution_count": 56,
   "id": "98d90134",
   "metadata": {},
   "outputs": [
    {
     "name": "stdout",
     "output_type": "stream",
     "text": [
      "<class 'list'>\n"
     ]
    }
   ],
   "source": [
    "# Converting Types with the list () and tuple ()\n",
    "\n",
    "sales = (10, 12, 25, 6, 9, 8)\n",
    "\n",
    "sales = list(sales)\n",
    "\n",
    "print(type(sales))\n"
   ]
  },
  {
   "cell_type": "code",
   "execution_count": 57,
   "id": "2ac404fd",
   "metadata": {},
   "outputs": [
    {
     "name": "stdout",
     "output_type": "stream",
     "text": [
      "<class 'tuple'>\n"
     ]
    }
   ],
   "source": [
    "sales = [10, 12, 25, 6, 9, 8]\n",
    "\n",
    "sales = tuple(sales)\n",
    "\n",
    "print(type(sales))"
   ]
  },
  {
   "cell_type": "markdown",
   "id": "3ccdd079",
   "metadata": {},
   "source": [
    "# Dictionaries\n",
    " \n",
    "# Like a list dictionary is a mutable collection of many values, but unlike indexes for lists, dictionaries can use many different types of data \n"
   ]
  },
  {
   "cell_type": "code",
   "execution_count": 59,
   "id": "0b3de64e",
   "metadata": {},
   "outputs": [
    {
     "name": "stdout",
     "output_type": "stream",
     "text": [
      "<class 'dict'>\n"
     ]
    }
   ],
   "source": [
    "# Example of dictionary \n",
    "\n",
    "data = {'name':'Jack', 'age':42, 'country':'USA'}\n",
    "\n",
    "print(type(data))"
   ]
  },
  {
   "cell_type": "code",
   "execution_count": 61,
   "id": "b59b97a4",
   "metadata": {},
   "outputs": [
    {
     "name": "stdout",
     "output_type": "stream",
     "text": [
      "name\n",
      "age\n",
      "country\n"
     ]
    }
   ],
   "source": [
    "# Example of keys ()\n",
    "\n",
    "data = {'name':'Jack', 'age':42, 'country':'USA'}\n",
    "\n",
    "for key in data.keys():\n",
    "    print(key)"
   ]
  },
  {
   "cell_type": "code",
   "execution_count": 63,
   "id": "b8a66258",
   "metadata": {},
   "outputs": [
    {
     "name": "stdout",
     "output_type": "stream",
     "text": [
      "Jack\n",
      "42\n",
      "USA\n"
     ]
    }
   ],
   "source": [
    "# Example of values in keys ()\n",
    "\n",
    "data = {'name':'Jack', 'age':42, 'country':'USA'}\n",
    "\n",
    "for value in data.values():\n",
    "    print(value)"
   ]
  },
  {
   "cell_type": "code",
   "execution_count": 65,
   "id": "7b88c063",
   "metadata": {},
   "outputs": [
    {
     "name": "stdout",
     "output_type": "stream",
     "text": [
      "Key:name,Value:Jack\n",
      "Key:age,Value:42\n",
      "Key:country,Value:USA\n"
     ]
    }
   ],
   "source": [
    "# Example of items ()\n",
    "\n",
    "data = {'name':'Jack', 'age':42, 'country':'USA'}\n",
    "\n",
    "for key,value in data.items():\n",
    "    print(\"Key:\" + key + ',' + \"Value:\" + str(value))\n"
   ]
  },
  {
   "cell_type": "code",
   "execution_count": 71,
   "id": "14f3c6db",
   "metadata": {},
   "outputs": [
    {
     "name": "stdout",
     "output_type": "stream",
     "text": [
      "True\n",
      "Name of the customer is Jack\n"
     ]
    }
   ],
   "source": [
    "# Checking whether a key or an item exists in a dictionary\n",
    "\n",
    "print('name' in data.keys())\n",
    "\n",
    "# Example of get()\n",
    "\n",
    "print(\"Name of the customer is \" + data['name'] )"
   ]
  },
  {
   "cell_type": "code",
   "execution_count": 74,
   "id": "590df3af",
   "metadata": {},
   "outputs": [
    {
     "name": "stdout",
     "output_type": "stream",
     "text": [
      "True\n",
      "Id of the customer is 0\n"
     ]
    }
   ],
   "source": [
    "# Checking whether a key or an item exists in a dictionary\n",
    "\n",
    "print('name' in data.keys())\n",
    "\n",
    "# Example of get()\n",
    "\n",
    "print(\"Id of the customer is \" + str(data.get('id',0)))"
   ]
  },
  {
   "cell_type": "code",
   "execution_count": 80,
   "id": "ca49be66",
   "metadata": {},
   "outputs": [
    {
     "name": "stdout",
     "output_type": "stream",
     "text": [
      "True\n",
      "Id of the customer is 100\n"
     ]
    }
   ],
   "source": [
    "# Example of setdefault\n",
    "\n",
    "print('id' in data.keys())\n",
    "\n",
    "data.setdefault('id',100)\n",
    "\n",
    "print(\"Id of the customer is \" + str(data['id']))"
   ]
  },
  {
   "cell_type": "code",
   "execution_count": 84,
   "id": "88f0c2db",
   "metadata": {},
   "outputs": [],
   "source": [
    "# Example of nested dictionaries\n",
    "\n",
    "database = {'Jack':{'age':42, 'gender':'male','purchases':30},'Jill':{'age':28, 'gender':'female','purchases ':10} }"
   ]
  },
  {
   "cell_type": "code",
   "execution_count": 85,
   "id": "131db624",
   "metadata": {},
   "outputs": [
    {
     "name": "stdout",
     "output_type": "stream",
     "text": [
      "dict_keys(['Jack', 'Jill'])\n"
     ]
    }
   ],
   "source": [
    "print(database.keys())"
   ]
  },
  {
   "cell_type": "code",
   "execution_count": 86,
   "id": "0beb0e3b",
   "metadata": {},
   "outputs": [
    {
     "name": "stdout",
     "output_type": "stream",
     "text": [
      "42\n"
     ]
    }
   ],
   "source": [
    "print(database['Jack']['age'])"
   ]
  },
  {
   "cell_type": "code",
   "execution_count": 87,
   "id": "5ba6deee",
   "metadata": {},
   "outputs": [
    {
     "name": "stdout",
     "output_type": "stream",
     "text": [
      "[42, 28]\n"
     ]
    }
   ],
   "source": [
    "ages = []\n",
    "\n",
    "for key in database.keys():\n",
    "    ages.append(database[key]['age'])\n",
    "    \n",
    "print(ages)"
   ]
  },
  {
   "cell_type": "markdown",
   "id": "9af0e4f0",
   "metadata": {},
   "source": [
    "# Week 3 - Arrays "
   ]
  },
  {
   "cell_type": "code",
   "execution_count": 98,
   "id": "a757e763",
   "metadata": {},
   "outputs": [
    {
     "name": "stdout",
     "output_type": "stream",
     "text": [
      "<class 'numpy.ndarray'>\n",
      "<class 'numpy.ndarray'>\n",
      "[0. 3. 6.]\n",
      "[0 2 4 6 8]\n",
      "[[1 2 3]\n",
      " [4 5 6]]\n",
      "2\n"
     ]
    }
   ],
   "source": [
    "# Creating an array - from a list, linspace, arange \n",
    "\n",
    "import numpy as np\n",
    "\n",
    "A = [1,2,3]\n",
    "\n",
    "B = np.array(A)\n",
    "\n",
    "print(type(B))\n",
    "\n",
    "C = np.array([1,2,3])\n",
    "print(type(C))\n",
    "\n",
    "D = np.linspace(0,6,3)\n",
    "print(D)\n",
    "\n",
    "E = np.arange(0,10,2)\n",
    "print(E)\n",
    "\n",
    "# Creating a rank 2 array - linalg.matrix_rank\n",
    "\n",
    "F = np.array([[1,2,3],[4,5,6]])\n",
    "\n",
    "print(F)\n",
    "\n",
    "print(np.linalg.matrix_rank(F))"
   ]
  },
  {
   "cell_type": "code",
   "execution_count": 99,
   "id": "a5ac65ef",
   "metadata": {},
   "outputs": [
    {
     "name": "stdout",
     "output_type": "stream",
     "text": [
      "[[0.]\n",
      " [0.]]\n"
     ]
    }
   ],
   "source": [
    "# Creating an array of all zeros \n",
    "\n",
    "z = np.zeros((2,1))\n",
    "\n",
    "print(z)"
   ]
  },
  {
   "cell_type": "code",
   "execution_count": 101,
   "id": "1f6de0f1",
   "metadata": {},
   "outputs": [
    {
     "name": "stdout",
     "output_type": "stream",
     "text": [
      "[[1. 1. 1. 1.]\n",
      " [1. 1. 1. 1.]\n",
      " [1. 1. 1. 1.]]\n"
     ]
    }
   ],
   "source": [
    "# Create an array of all ones \n",
    "\n",
    "o = np.ones((3,4))\n",
    "\n",
    "print(o)"
   ]
  },
  {
   "cell_type": "code",
   "execution_count": 105,
   "id": "85a75d8d",
   "metadata": {},
   "outputs": [
    {
     "name": "stdout",
     "output_type": "stream",
     "text": [
      "[[10 10 10 10]\n",
      " [10 10 10 10]]\n"
     ]
    }
   ],
   "source": [
    "# Create a constant array \n",
    "\n",
    "c = np.full((2,4),10.24, dtype = int)\n",
    "\n",
    "print(c)"
   ]
  },
  {
   "cell_type": "code",
   "execution_count": 106,
   "id": "589be84a",
   "metadata": {},
   "outputs": [
    {
     "name": "stdout",
     "output_type": "stream",
     "text": [
      "[[1. 0. 0.]\n",
      " [0. 1. 0.]\n",
      " [0. 0. 1.]]\n"
     ]
    }
   ],
   "source": [
    "# Creating a 2x2 identity matrix \n",
    "\n",
    "I = np.eye(3)\n",
    "print(I)"
   ]
  },
  {
   "cell_type": "code",
   "execution_count": 108,
   "id": "c64bbbdb",
   "metadata": {},
   "outputs": [
    {
     "name": "stdout",
     "output_type": "stream",
     "text": [
      "[[0.76992954 0.37975468 0.56366521]\n",
      " [0.22062104 0.03987629 0.38258927]]\n"
     ]
    }
   ],
   "source": [
    "# Create an array filled with random values - random.random \n",
    "\n",
    "R = np.random.random((2,3))\n",
    "\n",
    "print(R)"
   ]
  },
  {
   "cell_type": "code",
   "execution_count": 110,
   "id": "90ffdf48",
   "metadata": {},
   "outputs": [
    {
     "name": "stdout",
     "output_type": "stream",
     "text": [
      "[[2 6 0]\n",
      " [8 9 6]]\n"
     ]
    }
   ],
   "source": [
    "# Create an array filled with random values - random.random \n",
    "\n",
    "RR = np.random.randint(10, size=(2,3))\n",
    "\n",
    "print(RR)"
   ]
  },
  {
   "cell_type": "code",
   "execution_count": 111,
   "id": "245518da",
   "metadata": {},
   "outputs": [
    {
     "name": "stdout",
     "output_type": "stream",
     "text": [
      "[1 2 3 4]\n"
     ]
    }
   ],
   "source": [
    "# Arrays are generated from lists\n",
    "# Examples of using array methods \n",
    "\n",
    "data = [1,2,3]\n",
    "\n",
    "data.append(4)\n",
    "\n",
    "final_data = np.array(data)\n",
    "\n",
    "print(final_data)"
   ]
  },
  {
   "cell_type": "code",
   "execution_count": 112,
   "id": "1a571c67",
   "metadata": {},
   "outputs": [
    {
     "name": "stdout",
     "output_type": "stream",
     "text": [
      "[0 1 2 3 4]\n"
     ]
    }
   ],
   "source": [
    "# Example of slicing arrays\n",
    "\n",
    "A = np.array([0,1,2,3,4,5,6,7,8])\n",
    "\n",
    "# first n elements \n",
    "\n",
    "B = A[:5]\n",
    "\n",
    "print(B)"
   ]
  },
  {
   "cell_type": "code",
   "execution_count": 114,
   "id": "1090926b",
   "metadata": {},
   "outputs": [
    {
     "name": "stdout",
     "output_type": "stream",
     "text": [
      "[5 6 7 8]\n"
     ]
    }
   ],
   "source": [
    "# elements after index 'n'\n",
    "\n",
    "B =A[5:]\n",
    "\n",
    "print(B)"
   ]
  },
  {
   "cell_type": "code",
   "execution_count": 115,
   "id": "d558ef9d",
   "metadata": {},
   "outputs": [
    {
     "name": "stdout",
     "output_type": "stream",
     "text": [
      "[2 3 4]\n"
     ]
    }
   ],
   "source": [
    "# middle sub-array \n",
    "\n",
    "B =A[2:5]\n",
    "\n",
    "print(B)"
   ]
  },
  {
   "cell_type": "code",
   "execution_count": 116,
   "id": "44e4bcbb",
   "metadata": {},
   "outputs": [
    {
     "name": "stdout",
     "output_type": "stream",
     "text": [
      "[0 2 4 6 8]\n"
     ]
    }
   ],
   "source": [
    "#every other element\n",
    "\n",
    "B =A[::2]\n",
    "\n",
    "print(B)"
   ]
  },
  {
   "cell_type": "code",
   "execution_count": 118,
   "id": "961c6f77",
   "metadata": {},
   "outputs": [
    {
     "name": "stdout",
     "output_type": "stream",
     "text": [
      "[1 3 5 7]\n"
     ]
    }
   ],
   "source": [
    "#every other element starting at index 1 \n",
    "\n",
    "B =A[1::2]\n",
    "\n",
    "print(B)"
   ]
  },
  {
   "cell_type": "code",
   "execution_count": 119,
   "id": "a750f892",
   "metadata": {},
   "outputs": [
    {
     "name": "stdout",
     "output_type": "stream",
     "text": [
      "[8 7 6 5 4 3 2 1 0]\n"
     ]
    }
   ],
   "source": [
    "# All elements reversed \n",
    "\n",
    "B =A[::-1]\n",
    "\n",
    "print(B)"
   ]
  },
  {
   "cell_type": "code",
   "execution_count": 120,
   "id": "9a37cfca",
   "metadata": {},
   "outputs": [
    {
     "name": "stdout",
     "output_type": "stream",
     "text": [
      "[5 3 1]\n"
     ]
    }
   ],
   "source": [
    "# reverse every other value from index 5\n",
    "\n",
    "B = A[5::-2]\n",
    "\n",
    "print(B)"
   ]
  },
  {
   "cell_type": "code",
   "execution_count": 122,
   "id": "d1760e9a",
   "metadata": {},
   "outputs": [
    {
     "name": "stdout",
     "output_type": "stream",
     "text": [
      "[[9 4 0 1]\n",
      " [9 0 1 8]\n",
      " [9 0 8 6]\n",
      " [4 3 0 4]]\n"
     ]
    }
   ],
   "source": [
    "# Multi-dimensional sub-arrays \n",
    "\n",
    "np.random.seed(10)\n",
    "\n",
    "S = np.random.randint(10, size = (4,4))\n",
    "\n",
    "print(S)"
   ]
  },
  {
   "cell_type": "code",
   "execution_count": 123,
   "id": "8bc18c88",
   "metadata": {},
   "outputs": [
    {
     "name": "stdout",
     "output_type": "stream",
     "text": [
      "[[9 4]\n",
      " [9 0]]\n"
     ]
    }
   ],
   "source": [
    "# Sub-array with rows and columns \n",
    "\n",
    "D = S[:2,:2]\n",
    "\n",
    "print(D)"
   ]
  },
  {
   "cell_type": "code",
   "execution_count": 125,
   "id": "71074248",
   "metadata": {},
   "outputs": [
    {
     "name": "stdout",
     "output_type": "stream",
     "text": [
      "[[4 0 3 4]\n",
      " [6 8 0 9]\n",
      " [8 1 0 9]\n",
      " [1 0 4 9]]\n"
     ]
    }
   ],
   "source": [
    "#reverse\n",
    "\n",
    "D = S[::-1,::-1]\n",
    "\n",
    "print(D)"
   ]
  },
  {
   "cell_type": "code",
   "execution_count": 126,
   "id": "8ceae64c",
   "metadata": {},
   "outputs": [
    {
     "name": "stdout",
     "output_type": "stream",
     "text": [
      "[9 9 9 4]\n"
     ]
    }
   ],
   "source": [
    "# access first column\n",
    "\n",
    "D = S[:,0]\n",
    "\n",
    "print(D)"
   ]
  },
  {
   "cell_type": "code",
   "execution_count": 127,
   "id": "949c468f",
   "metadata": {},
   "outputs": [
    {
     "name": "stdout",
     "output_type": "stream",
     "text": [
      "[9 4 0 1]\n"
     ]
    }
   ],
   "source": [
    "# access first row\n",
    "\n",
    "D = S[0,:]\n",
    "\n",
    "print(D)"
   ]
  },
  {
   "cell_type": "code",
   "execution_count": 130,
   "id": "f9ee5730",
   "metadata": {},
   "outputs": [
    {
     "name": "stdout",
     "output_type": "stream",
     "text": [
      "8\n",
      "3\n"
     ]
    }
   ],
   "source": [
    "# Example of editing array value \n",
    "\n",
    "print(S[2][2])\n",
    "\n",
    "S[2][2] = 3\n",
    "\n",
    "print(S[2][2])"
   ]
  },
  {
   "cell_type": "code",
   "execution_count": 134,
   "id": "6d6b99ad",
   "metadata": {},
   "outputs": [
    {
     "name": "stdout",
     "output_type": "stream",
     "text": [
      "[11 22 33]\n",
      "[ -9 -18 -27]\n",
      "[10 40 90]\n",
      "[0.1 0.1 0.1]\n",
      "[3.16227766 4.47213595 5.47722558]\n",
      "[10 40 90]\n"
     ]
    }
   ],
   "source": [
    "# Example of array operations \n",
    "\n",
    "A = np.array([1,2,3])\n",
    "\n",
    "B = np.array([10,20,30])\n",
    "\n",
    "print(A+B)\n",
    "print(A-B)\n",
    "print(A*B)\n",
    "print(A/B)\n",
    "print(np.sqrt(B))\n",
    "\n",
    "\n",
    "print(np.multiply(A,B))"
   ]
  },
  {
   "cell_type": "code",
   "execution_count": 137,
   "id": "207a2af1",
   "metadata": {},
   "outputs": [
    {
     "name": "stdout",
     "output_type": "stream",
     "text": [
      "[[96 88 44  5  4]\n",
      " [71 88 88 50 54]\n",
      " [34 15 77 88 15]\n",
      " [ 6 85 22 11 12]\n",
      " [92 96 62 57 79]]\n",
      " The value in row 0 and column 0 is 96\n",
      " The value in row 0 and column 1 is 88\n",
      " The value in row 0 and column 2 is 44\n",
      " The value in row 0 and column 3 is 5\n",
      " The value in row 0 and column 4 is 4\n",
      " The value in row 1 and column 0 is 71\n",
      " The value in row 1 and column 1 is 88\n",
      " The value in row 1 and column 2 is 88\n",
      " The value in row 1 and column 3 is 50\n",
      " The value in row 1 and column 4 is 54\n",
      " The value in row 2 and column 0 is 34\n",
      " The value in row 2 and column 1 is 15\n",
      " The value in row 2 and column 2 is 77\n",
      " The value in row 2 and column 3 is 88\n",
      " The value in row 2 and column 4 is 15\n",
      " The value in row 3 and column 0 is 6\n",
      " The value in row 3 and column 1 is 85\n",
      " The value in row 3 and column 2 is 22\n",
      " The value in row 3 and column 3 is 11\n",
      " The value in row 3 and column 4 is 12\n",
      " The value in row 4 and column 0 is 92\n",
      " The value in row 4 and column 1 is 96\n",
      " The value in row 4 and column 2 is 62\n",
      " The value in row 4 and column 3 is 57\n",
      " The value in row 4 and column 4 is 79\n"
     ]
    }
   ],
   "source": [
    "# Example of using loops with arrays \n",
    "\n",
    "np.random.seed\n",
    "\n",
    "S = np.random.randint(100, size = (5,5))\n",
    "\n",
    "print(S)\n",
    "\n",
    "for x in range(len(S)):\n",
    "    for y in range(len(S[x])):\n",
    "        print(\" The value in row \" + str(x)  + \" and column \" + str(y) + \" is \" + str(S[x][y]))\n",
    "\n"
   ]
  },
  {
   "cell_type": "code",
   "execution_count": null,
   "id": "34ae425f",
   "metadata": {},
   "outputs": [],
   "source": []
  }
 ],
 "metadata": {
  "kernelspec": {
   "display_name": "Python 3 (ipykernel)",
   "language": "python",
   "name": "python3"
  },
  "language_info": {
   "codemirror_mode": {
    "name": "ipython",
    "version": 3
   },
   "file_extension": ".py",
   "mimetype": "text/x-python",
   "name": "python",
   "nbconvert_exporter": "python",
   "pygments_lexer": "ipython3",
   "version": "3.9.7"
  }
 },
 "nbformat": 4,
 "nbformat_minor": 5
}
