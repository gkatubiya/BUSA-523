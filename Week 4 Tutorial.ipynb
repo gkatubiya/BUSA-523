{
 "cells": [
  {
   "cell_type": "markdown",
   "id": "077fb742",
   "metadata": {},
   "source": [
    "# FUNCTIONS"
   ]
  },
  {
   "cell_type": "code",
   "execution_count": 1,
   "id": "42e3f3d0",
   "metadata": {},
   "outputs": [],
   "source": [
    "# Example of defining a function \n",
    "\n",
    "def first_program():\n",
    "    print(\"Hello World!\")"
   ]
  },
  {
   "cell_type": "code",
   "execution_count": 2,
   "id": "70c8062d",
   "metadata": {},
   "outputs": [
    {
     "name": "stdout",
     "output_type": "stream",
     "text": [
      "Hello World!\n"
     ]
    }
   ],
   "source": [
    "# Executing the function \n",
    "first_program()"
   ]
  },
  {
   "cell_type": "code",
   "execution_count": 3,
   "id": "c383b7de",
   "metadata": {},
   "outputs": [
    {
     "name": "stdout",
     "output_type": "stream",
     "text": [
      "Hello World!\n",
      "Hello World!\n",
      "Hello World!\n",
      "Hello World!\n",
      "Hello World!\n",
      "Hello World!\n",
      "Hello World!\n",
      "Hello World!\n",
      "Hello World!\n",
      "Hello World!\n",
      "Hello World!\n"
     ]
    }
   ],
   "source": [
    "# Executing the function repeating multiple times \n",
    "\n",
    "first_program()\n",
    "\n",
    "for x in range(10):\n",
    "    first_program()"
   ]
  },
  {
   "cell_type": "code",
   "execution_count": 4,
   "id": "bce8eff1",
   "metadata": {},
   "outputs": [
    {
     "name": "stdout",
     "output_type": "stream",
     "text": [
      "9\n"
     ]
    }
   ],
   "source": [
    "# Example of a function with parameters\n",
    "\n",
    "#values a and b are parameters\n",
    "def add(a,b):\n",
    "    print(a+b)\n",
    "\n",
    "# Values in the function call are arguments    \n",
    "add(4,5)"
   ]
  },
  {
   "cell_type": "code",
   "execution_count": 6,
   "id": "a7074b5d",
   "metadata": {},
   "outputs": [
    {
     "name": "stdout",
     "output_type": "stream",
     "text": [
      "7\n",
      "None\n"
     ]
    }
   ],
   "source": [
    "# Example of a function with a return statement \n",
    "\n",
    "def add(a,b):\n",
    "    print(a+b)\n",
    "    \n",
    "result = add(3,4)\n",
    "\n",
    "print(result)"
   ]
  },
  {
   "cell_type": "code",
   "execution_count": 7,
   "id": "ce02da0d",
   "metadata": {},
   "outputs": [
    {
     "name": "stdout",
     "output_type": "stream",
     "text": [
      "7\n"
     ]
    }
   ],
   "source": [
    "# Example of a function with a return statement \n",
    "\n",
    "def add(a,b):\n",
    "    return a+b\n",
    "\n",
    "result = add(3,4)\n",
    "\n",
    "print(result)"
   ]
  },
  {
   "cell_type": "code",
   "execution_count": 8,
   "id": "a7d790c8",
   "metadata": {},
   "outputs": [
    {
     "name": "stdout",
     "output_type": "stream",
     "text": [
      "(7, -1, 12)\n"
     ]
    }
   ],
   "source": [
    "def math(a,b):\n",
    "    return a+b, a-b, a*b\n",
    "\n",
    "result = math(3,4)\n",
    "\n",
    "print(result)"
   ]
  },
  {
   "cell_type": "code",
   "execution_count": 9,
   "id": "4926e86a",
   "metadata": {},
   "outputs": [
    {
     "name": "stdout",
     "output_type": "stream",
     "text": [
      "<class 'tuple'>\n",
      "-1\n"
     ]
    }
   ],
   "source": [
    "def math(a,b):\n",
    "    return a+b, a-b, a*b\n",
    "\n",
    "result = math(3,4)\n",
    "\n",
    "print(type(result))\n",
    "\n",
    "print(result[1])"
   ]
  },
  {
   "cell_type": "code",
   "execution_count": 11,
   "id": "de75288f",
   "metadata": {},
   "outputs": [
    {
     "name": "stdout",
     "output_type": "stream",
     "text": [
      "7\n",
      "-1\n",
      "12\n"
     ]
    }
   ],
   "source": [
    "def math(a,b):\n",
    "    return a+b, a-b, a*b\n",
    "\n",
    "add, sub, mult = math(3,4)\n",
    "\n",
    "print(add)\n",
    "print(sub)\n",
    "print(mult)"
   ]
  },
  {
   "cell_type": "code",
   "execution_count": 15,
   "id": "501b5388",
   "metadata": {},
   "outputs": [
    {
     "name": "stdout",
     "output_type": "stream",
     "text": [
      "credit score is 720\n",
      "Income is 100k\n",
      "No criminal record\n",
      "credit check completed\n"
     ]
    }
   ],
   "source": [
    "# Example of call stack\n",
    "\n",
    "def credit_check():\n",
    "    get_credit_score()\n",
    "    get_income()\n",
    "    background_check()\n",
    "    print(\"credit check completed\")\n",
    "    \n",
    "def get_credit_score():\n",
    "    print(\"credit score is 720\")\n",
    "    \n",
    "def get_income():\n",
    "    print(\"Income is 100k\")\n",
    "    \n",
    "def background_check():\n",
    "    print(\"No criminal record\")\n",
    "    \n",
    "\n",
    "    \n",
    "credit_check()"
   ]
  },
  {
   "cell_type": "code",
   "execution_count": 17,
   "id": "aa92f33e",
   "metadata": {},
   "outputs": [
    {
     "name": "stdout",
     "output_type": "stream",
     "text": [
      "5\n"
     ]
    }
   ],
   "source": [
    "# Example of defining global and local variables \n",
    "\n",
    "# Global variable - is defined outside a function\n",
    "\n",
    "a = 5\n",
    "\n",
    "def printing():\n",
    "    print(a)\n",
    "    \n",
    "printing()"
   ]
  },
  {
   "cell_type": "code",
   "execution_count": 19,
   "id": "b9ebe3ac",
   "metadata": {},
   "outputs": [
    {
     "name": "stdout",
     "output_type": "stream",
     "text": [
      "3\n"
     ]
    },
    {
     "ename": "NameError",
     "evalue": "name 'b' is not defined",
     "output_type": "error",
     "traceback": [
      "\u001b[1;31m---------------------------------------------------------------------------\u001b[0m",
      "\u001b[1;31mNameError\u001b[0m                                 Traceback (most recent call last)",
      "\u001b[1;32mC:\\Users\\GLADYS~1.KAT\\AppData\\Local\\Temp/ipykernel_20772/2052189119.py\u001b[0m in \u001b[0;36m<module>\u001b[1;34m\u001b[0m\n\u001b[0;32m      5\u001b[0m \u001b[0mprinting\u001b[0m\u001b[1;33m(\u001b[0m\u001b[1;33m)\u001b[0m\u001b[1;33m\u001b[0m\u001b[1;33m\u001b[0m\u001b[0m\n\u001b[0;32m      6\u001b[0m \u001b[1;33m\u001b[0m\u001b[0m\n\u001b[1;32m----> 7\u001b[1;33m \u001b[0mprint\u001b[0m\u001b[1;33m(\u001b[0m\u001b[0mb\u001b[0m\u001b[1;33m)\u001b[0m\u001b[1;33m\u001b[0m\u001b[1;33m\u001b[0m\u001b[0m\n\u001b[0m",
      "\u001b[1;31mNameError\u001b[0m: name 'b' is not defined"
     ]
    }
   ],
   "source": [
    "\n",
    "def printing():\n",
    "    b = 3 #Local variable - assigned within a function\n",
    "    print(b)\n",
    "    \n",
    "printing()\n",
    "\n",
    "print(b)"
   ]
  },
  {
   "cell_type": "code",
   "execution_count": 20,
   "id": "f92d05e1",
   "metadata": {},
   "outputs": [
    {
     "name": "stdout",
     "output_type": "stream",
     "text": [
      "3\n",
      "3\n"
     ]
    }
   ],
   "source": [
    "#To be available globally \n",
    "\n",
    "def printing():\n",
    "    global b\n",
    "    b = 3 #Local variable - assigned within a function\n",
    "    print(b)\n",
    "    \n",
    "printing()\n",
    "\n",
    "print(b)"
   ]
  },
  {
   "cell_type": "code",
   "execution_count": 21,
   "id": "0fec360c",
   "metadata": {},
   "outputs": [
    {
     "name": "stdout",
     "output_type": "stream",
     "text": [
      "3\n",
      "5\n"
     ]
    }
   ],
   "source": [
    "a = 5\n",
    "\n",
    "def printing():\n",
    "    a = 3\n",
    "    print(a)\n",
    "\n",
    "printing()\n",
    "\n",
    "print(a)"
   ]
  },
  {
   "cell_type": "code",
   "execution_count": 23,
   "id": "bcc686a8",
   "metadata": {},
   "outputs": [
    {
     "ename": "ZeroDivisionError",
     "evalue": "division by zero",
     "output_type": "error",
     "traceback": [
      "\u001b[1;31m---------------------------------------------------------------------------\u001b[0m",
      "\u001b[1;31mZeroDivisionError\u001b[0m                         Traceback (most recent call last)",
      "\u001b[1;32mC:\\Users\\GLADYS~1.KAT\\AppData\\Local\\Temp/ipykernel_20772/3807419963.py\u001b[0m in \u001b[0;36m<module>\u001b[1;34m\u001b[0m\n\u001b[0;32m      4\u001b[0m     \u001b[1;32mreturn\u001b[0m \u001b[1;36m20\u001b[0m\u001b[1;33m/\u001b[0m\u001b[0ma\u001b[0m\u001b[1;33m\u001b[0m\u001b[1;33m\u001b[0m\u001b[0m\n\u001b[0;32m      5\u001b[0m \u001b[1;33m\u001b[0m\u001b[0m\n\u001b[1;32m----> 6\u001b[1;33m \u001b[0mprint\u001b[0m\u001b[1;33m(\u001b[0m\u001b[0mdiv\u001b[0m\u001b[1;33m(\u001b[0m\u001b[1;36m0\u001b[0m\u001b[1;33m)\u001b[0m\u001b[1;33m)\u001b[0m\u001b[1;33m\u001b[0m\u001b[1;33m\u001b[0m\u001b[0m\n\u001b[0m",
      "\u001b[1;32mC:\\Users\\GLADYS~1.KAT\\AppData\\Local\\Temp/ipykernel_20772/3807419963.py\u001b[0m in \u001b[0;36mdiv\u001b[1;34m(a)\u001b[0m\n\u001b[0;32m      2\u001b[0m \u001b[1;33m\u001b[0m\u001b[0m\n\u001b[0;32m      3\u001b[0m \u001b[1;32mdef\u001b[0m \u001b[0mdiv\u001b[0m\u001b[1;33m(\u001b[0m\u001b[0ma\u001b[0m\u001b[1;33m)\u001b[0m\u001b[1;33m:\u001b[0m\u001b[1;33m\u001b[0m\u001b[1;33m\u001b[0m\u001b[0m\n\u001b[1;32m----> 4\u001b[1;33m     \u001b[1;32mreturn\u001b[0m \u001b[1;36m20\u001b[0m\u001b[1;33m/\u001b[0m\u001b[0ma\u001b[0m\u001b[1;33m\u001b[0m\u001b[1;33m\u001b[0m\u001b[0m\n\u001b[0m\u001b[0;32m      5\u001b[0m \u001b[1;33m\u001b[0m\u001b[0m\n\u001b[0;32m      6\u001b[0m \u001b[0mprint\u001b[0m\u001b[1;33m(\u001b[0m\u001b[0mdiv\u001b[0m\u001b[1;33m(\u001b[0m\u001b[1;36m0\u001b[0m\u001b[1;33m)\u001b[0m\u001b[1;33m)\u001b[0m\u001b[1;33m\u001b[0m\u001b[1;33m\u001b[0m\u001b[0m\n",
      "\u001b[1;31mZeroDivisionError\u001b[0m: division by zero"
     ]
    }
   ],
   "source": [
    "# Example of code with errors\n",
    "\n",
    "def div(a):\n",
    "    return 20/a\n",
    "\n",
    "print(div(0))"
   ]
  },
  {
   "cell_type": "code",
   "execution_count": 24,
   "id": "203a4cce",
   "metadata": {},
   "outputs": [
    {
     "name": "stdout",
     "output_type": "stream",
     "text": [
      "Invalid entry\n",
      "None\n"
     ]
    }
   ],
   "source": [
    "# Example of a try and except statements \n",
    "\n",
    "def div(a):\n",
    "    try:\n",
    "        return 20/a\n",
    "    except ZeroDivisionError:\n",
    "        print(\"Invalid entry\")\n",
    "        \n",
    "print(div(0))\n"
   ]
  },
  {
   "cell_type": "markdown",
   "id": "9de4dd39",
   "metadata": {},
   "source": [
    "# CLASSES "
   ]
  },
  {
   "cell_type": "code",
   "execution_count": 12,
   "id": "4bb6de4e",
   "metadata": {},
   "outputs": [],
   "source": [
    "# Create a class \n",
    "\n",
    "class data:\n",
    "    num = 10\n",
    "    "
   ]
  },
  {
   "cell_type": "code",
   "execution_count": 26,
   "id": "fe4b034f",
   "metadata": {},
   "outputs": [
    {
     "name": "stdout",
     "output_type": "stream",
     "text": [
      "10\n"
     ]
    }
   ],
   "source": [
    "# Create an instance/object of the class \n",
    "\n",
    "sample = data()\n",
    "print(sample.num)"
   ]
  },
  {
   "cell_type": "code",
   "execution_count": 31,
   "id": "ed8acb9d",
   "metadata": {},
   "outputs": [
    {
     "name": "stdout",
     "output_type": "stream",
     "text": [
      "26\n",
      "100\n"
     ]
    }
   ],
   "source": [
    "# Add or remove attributes\n",
    "\n",
    "class customer:\n",
    "    \n",
    "    def __init__(self, age, purchases):\n",
    "        self.age = age \n",
    "        self.purchases = purchases\n",
    "\n",
    "\n",
    "customer_1 = customer(26,100)\n",
    "\n",
    "print(customer_1.age)\n",
    "print(customer_1.purchases)"
   ]
  },
  {
   "cell_type": "code",
   "execution_count": 33,
   "id": "ae7bca73",
   "metadata": {},
   "outputs": [
    {
     "name": "stdout",
     "output_type": "stream",
     "text": [
      "male\n",
      "29\n"
     ]
    },
    {
     "ename": "AttributeError",
     "evalue": "'customer' object has no attribute 'age'",
     "output_type": "error",
     "traceback": [
      "\u001b[1;31m---------------------------------------------------------------------------\u001b[0m",
      "\u001b[1;31mAttributeError\u001b[0m                            Traceback (most recent call last)",
      "\u001b[1;32mC:\\Users\\GLADYS~1.KAT\\AppData\\Local\\Temp/ipykernel_20772/4246567996.py\u001b[0m in \u001b[0;36m<module>\u001b[1;34m\u001b[0m\n\u001b[0;32m      9\u001b[0m \u001b[1;32mdel\u001b[0m \u001b[0mcustomer_1\u001b[0m\u001b[1;33m.\u001b[0m\u001b[0mage\u001b[0m\u001b[1;33m\u001b[0m\u001b[1;33m\u001b[0m\u001b[0m\n\u001b[0;32m     10\u001b[0m \u001b[1;33m\u001b[0m\u001b[0m\n\u001b[1;32m---> 11\u001b[1;33m \u001b[0mprint\u001b[0m\u001b[1;33m(\u001b[0m\u001b[0mcustomer_1\u001b[0m\u001b[1;33m.\u001b[0m\u001b[0mage\u001b[0m\u001b[1;33m)\u001b[0m\u001b[1;33m\u001b[0m\u001b[1;33m\u001b[0m\u001b[0m\n\u001b[0m",
      "\u001b[1;31mAttributeError\u001b[0m: 'customer' object has no attribute 'age'"
     ]
    }
   ],
   "source": [
    "customer_1.gender = \"male\"\n",
    "\n",
    "print (customer_1.gender)\n",
    "\n",
    "customer_1.age = 29\n",
    "\n",
    "print (customer_1.age)\n",
    "\n",
    "del customer_1.age \n",
    "\n",
    "print(customer_1.age) "
   ]
  },
  {
   "cell_type": "code",
   "execution_count": 51,
   "id": "69c4326d",
   "metadata": {},
   "outputs": [
    {
     "name": "stdout",
     "output_type": "stream",
     "text": [
      "Age of the customer is 10\n",
      "Number of purchases made 100\n"
     ]
    }
   ],
   "source": [
    "# Functions/methods in classess\n",
    "\n",
    "class customer:\n",
    "    \n",
    "    def __init__(self, age, purchases):\n",
    "        self.age = age \n",
    "        self.purchases = purchases\n",
    "        \n",
    "    def printing(self):\n",
    "        print(\"Age of the customer is \" + str(self.age))\n",
    "        print(\"Number of purchases made \" + str(self.purchases))\n",
    "        \n",
    "new_customer = customer(10,100)\n",
    "\n",
    "new_customer.printing()"
   ]
  },
  {
   "cell_type": "markdown",
   "id": "53d9e6b8",
   "metadata": {},
   "source": [
    "# Big-O Notation"
   ]
  },
  {
   "cell_type": "code",
   "execution_count": 55,
   "id": "ce3d6a03",
   "metadata": {},
   "outputs": [
    {
     "name": "stdout",
     "output_type": "stream",
     "text": [
      "588 ns ± 49.6 ns per loop (mean ± std. dev. of 7 runs, 1000000 loops each)\n",
      "1.24 µs ± 72.2 ns per loop (mean ± std. dev. of 7 runs, 1000000 loops each)\n"
     ]
    }
   ],
   "source": [
    "# Using timeit to find the time taken by a function\n",
    "\n",
    "def for_loop(data):\n",
    "    add = 0\n",
    "    for value in data:\n",
    "        add += value \n",
    "\n",
    "def while_loop(data):\n",
    "    add = 0 \n",
    "    index = 0\n",
    "    while index < len(data):\n",
    "        add += data[index]\n",
    "        index += 1\n",
    "        \n",
    "data = [10, 15, 25]\n",
    "\n",
    "%timeit for_loop(data)\n",
    "%timeit while_loop(data)\n"
   ]
  },
  {
   "cell_type": "code",
   "execution_count": 4,
   "id": "071fcbd4",
   "metadata": {},
   "outputs": [],
   "source": [
    "# Inputs\n",
    "\n",
    "import random\n",
    "\n",
    "list_1 = []\n",
    "\n",
    "for x in range(10):\n",
    "    list_1.append(random.randint(0,10))\n",
    "    \n",
    "\n",
    "list_2 = [random.randint(0,10) for x in range(100)]\n",
    "list_3 = [random.randint(0,10) for x in range(1000)]\n",
    "\n"
   ]
  },
  {
   "cell_type": "code",
   "execution_count": 5,
   "id": "06d67dd0",
   "metadata": {},
   "outputs": [
    {
     "name": "stdout",
     "output_type": "stream",
     "text": [
      "134 ns ± 25.3 ns per loop (mean ± std. dev. of 7 runs, 10000000 loops each)\n",
      "158 ns ± 28.5 ns per loop (mean ± std. dev. of 7 runs, 10000000 loops each)\n",
      "132 ns ± 24.4 ns per loop (mean ± std. dev. of 7 runs, 10000000 loops each)\n"
     ]
    }
   ],
   "source": [
    "# Example 1 \n",
    "\n",
    "def check(lst):\n",
    "    data = 6\n",
    "    sample = 5\n",
    "    return 0\n",
    "\n",
    "%timeit check(list_1)\n",
    "%timeit check(list_2)\n",
    "%timeit check(list_3)"
   ]
  },
  {
   "cell_type": "code",
   "execution_count": 8,
   "id": "8816c4e9",
   "metadata": {},
   "outputs": [
    {
     "name": "stdout",
     "output_type": "stream",
     "text": [
      "892 ns ± 112 ns per loop (mean ± std. dev. of 7 runs, 1000000 loops each)\n",
      "6.2 µs ± 53.8 ns per loop (mean ± std. dev. of 7 runs, 100000 loops each)\n",
      "61.5 µs ± 42 ns per loop (mean ± std. dev. of 7 runs, 10000 loops each)\n"
     ]
    }
   ],
   "source": [
    "# Example 2 \n",
    "\n",
    "def loop(lst): # input size = n\n",
    "    greater_5 = [] # Step 1\n",
    "    for value in lst: # 2*n\n",
    "        if value > 5: \n",
    "            greater_5.append(value)\n",
    "            \n",
    "%timeit loop(list_1)\n",
    "%timeit loop(list_2)\n",
    "%timeit loop(list_3)\n",
    "\n",
    "# 892 ns - 10\n",
    "#6200 ns - 100\n",
    "#61500 ns - 1000"
   ]
  },
  {
   "cell_type": "code",
   "execution_count": 9,
   "id": "dc722d5f",
   "metadata": {},
   "outputs": [
    {
     "name": "stdout",
     "output_type": "stream",
     "text": [
      "8.37 µs ± 992 ns per loop (mean ± std. dev. of 7 runs, 100000 loops each)\n",
      "708 µs ± 75.9 µs per loop (mean ± std. dev. of 7 runs, 1000 loops each)\n",
      "74.7 ms ± 2.62 ms per loop (mean ± std. dev. of 7 runs, 10 loops each)\n"
     ]
    }
   ],
   "source": [
    "# Example 3\n",
    "\n",
    "def loop2(lst): \n",
    "    data = []\n",
    "    for x in lst: # n\n",
    "        less = []\n",
    "        for y in lst: #n\n",
    "            if y < x:\n",
    "                less.append(y)\n",
    "        data.append(less)\n",
    "        \n",
    "%timeit loop2(list_1)\n",
    "%timeit loop2(list_2)\n",
    "%timeit loop2(list_3)\n",
    "\n",
    "# 8.37 - 10\n",
    "# 708 - 100\n",
    "# 74700 - 1000"
   ]
  },
  {
   "cell_type": "code",
   "execution_count": null,
   "id": "520c3250",
   "metadata": {},
   "outputs": [],
   "source": []
  }
 ],
 "metadata": {
  "kernelspec": {
   "display_name": "Python 3 (ipykernel)",
   "language": "python",
   "name": "python3"
  },
  "language_info": {
   "codemirror_mode": {
    "name": "ipython",
    "version": 3
   },
   "file_extension": ".py",
   "mimetype": "text/x-python",
   "name": "python",
   "nbconvert_exporter": "python",
   "pygments_lexer": "ipython3",
   "version": "3.9.7"
  }
 },
 "nbformat": 4,
 "nbformat_minor": 5
}
