{
 "cells": [
  {
   "cell_type": "code",
   "execution_count": 7,
   "id": "f1eb3a7d",
   "metadata": {},
   "outputs": [
    {
     "data": {
      "text/html": [
       "<div>\n",
       "<style scoped>\n",
       "    .dataframe tbody tr th:only-of-type {\n",
       "        vertical-align: middle;\n",
       "    }\n",
       "\n",
       "    .dataframe tbody tr th {\n",
       "        vertical-align: top;\n",
       "    }\n",
       "\n",
       "    .dataframe thead th {\n",
       "        text-align: right;\n",
       "    }\n",
       "</style>\n",
       "<table border=\"1\" class=\"dataframe\">\n",
       "  <thead>\n",
       "    <tr style=\"text-align: right;\">\n",
       "      <th></th>\n",
       "      <th>Temperature</th>\n",
       "      <th>Fuel_Price</th>\n",
       "      <th>MarkDown1</th>\n",
       "      <th>MarkDown2</th>\n",
       "      <th>MarkDown3</th>\n",
       "      <th>MarkDown4</th>\n",
       "      <th>MarkDown5</th>\n",
       "      <th>CPI</th>\n",
       "      <th>Unemployment</th>\n",
       "      <th>Day type</th>\n",
       "      <th>dept_1 sales</th>\n",
       "      <th>dept_2 sales</th>\n",
       "      <th>dept_3 sales</th>\n",
       "    </tr>\n",
       "    <tr>\n",
       "      <th>Date</th>\n",
       "      <th></th>\n",
       "      <th></th>\n",
       "      <th></th>\n",
       "      <th></th>\n",
       "      <th></th>\n",
       "      <th></th>\n",
       "      <th></th>\n",
       "      <th></th>\n",
       "      <th></th>\n",
       "      <th></th>\n",
       "      <th></th>\n",
       "      <th></th>\n",
       "      <th></th>\n",
       "    </tr>\n",
       "  </thead>\n",
       "  <tbody>\n",
       "    <tr>\n",
       "      <th>5/2/10</th>\n",
       "      <td>42.31</td>\n",
       "      <td>2.572</td>\n",
       "      <td>NaN</td>\n",
       "      <td>NaN</td>\n",
       "      <td>NaN</td>\n",
       "      <td>NaN</td>\n",
       "      <td>NaN</td>\n",
       "      <td>211.096358</td>\n",
       "      <td>8.106</td>\n",
       "      <td>Regular day</td>\n",
       "      <td>24924.50</td>\n",
       "      <td>50605.27</td>\n",
       "      <td>13740.12</td>\n",
       "    </tr>\n",
       "    <tr>\n",
       "      <th>12/2/10</th>\n",
       "      <td>38.51</td>\n",
       "      <td>2.548</td>\n",
       "      <td>NaN</td>\n",
       "      <td>NaN</td>\n",
       "      <td>NaN</td>\n",
       "      <td>NaN</td>\n",
       "      <td>NaN</td>\n",
       "      <td>211.242170</td>\n",
       "      <td>8.106</td>\n",
       "      <td>Holiday</td>\n",
       "      <td>46039.49</td>\n",
       "      <td>44682.74</td>\n",
       "      <td>10887.84</td>\n",
       "    </tr>\n",
       "    <tr>\n",
       "      <th>19/02/2010</th>\n",
       "      <td>39.93</td>\n",
       "      <td>2.514</td>\n",
       "      <td>NaN</td>\n",
       "      <td>NaN</td>\n",
       "      <td>NaN</td>\n",
       "      <td>NaN</td>\n",
       "      <td>NaN</td>\n",
       "      <td>211.289143</td>\n",
       "      <td>8.106</td>\n",
       "      <td>Regular day</td>\n",
       "      <td>41595.55</td>\n",
       "      <td>47928.89</td>\n",
       "      <td>11523.47</td>\n",
       "    </tr>\n",
       "    <tr>\n",
       "      <th>26/02/2010</th>\n",
       "      <td>46.63</td>\n",
       "      <td>2.561</td>\n",
       "      <td>NaN</td>\n",
       "      <td>NaN</td>\n",
       "      <td>NaN</td>\n",
       "      <td>NaN</td>\n",
       "      <td>NaN</td>\n",
       "      <td>211.319643</td>\n",
       "      <td>8.106</td>\n",
       "      <td>Regular day</td>\n",
       "      <td>19403.54</td>\n",
       "      <td>44292.87</td>\n",
       "      <td>11135.17</td>\n",
       "    </tr>\n",
       "    <tr>\n",
       "      <th>5/3/10</th>\n",
       "      <td>46.50</td>\n",
       "      <td>2.625</td>\n",
       "      <td>NaN</td>\n",
       "      <td>NaN</td>\n",
       "      <td>NaN</td>\n",
       "      <td>NaN</td>\n",
       "      <td>NaN</td>\n",
       "      <td>211.350143</td>\n",
       "      <td>8.106</td>\n",
       "      <td>Regular day</td>\n",
       "      <td>21827.90</td>\n",
       "      <td>48397.98</td>\n",
       "      <td>12275.58</td>\n",
       "    </tr>\n",
       "    <tr>\n",
       "      <th>...</th>\n",
       "      <td>...</td>\n",
       "      <td>...</td>\n",
       "      <td>...</td>\n",
       "      <td>...</td>\n",
       "      <td>...</td>\n",
       "      <td>...</td>\n",
       "      <td>...</td>\n",
       "      <td>...</td>\n",
       "      <td>...</td>\n",
       "      <td>...</td>\n",
       "      <td>...</td>\n",
       "      <td>...</td>\n",
       "      <td>...</td>\n",
       "    </tr>\n",
       "    <tr>\n",
       "      <th>28/09/2012</th>\n",
       "      <td>76.08</td>\n",
       "      <td>3.666</td>\n",
       "      <td>3666.27</td>\n",
       "      <td>7.64</td>\n",
       "      <td>1.65</td>\n",
       "      <td>1417.96</td>\n",
       "      <td>4744.28</td>\n",
       "      <td>222.981658</td>\n",
       "      <td>6.908</td>\n",
       "      <td>Regular day</td>\n",
       "      <td>18947.81</td>\n",
       "      <td>45784.76</td>\n",
       "      <td>13085.95</td>\n",
       "    </tr>\n",
       "    <tr>\n",
       "      <th>5/10/12</th>\n",
       "      <td>68.55</td>\n",
       "      <td>3.617</td>\n",
       "      <td>8077.89</td>\n",
       "      <td>NaN</td>\n",
       "      <td>18.22</td>\n",
       "      <td>3617.43</td>\n",
       "      <td>3626.14</td>\n",
       "      <td>223.181477</td>\n",
       "      <td>6.573</td>\n",
       "      <td>Regular day</td>\n",
       "      <td>21904.47</td>\n",
       "      <td>48577.08</td>\n",
       "      <td>11676.98</td>\n",
       "    </tr>\n",
       "    <tr>\n",
       "      <th>12/10/12</th>\n",
       "      <td>62.99</td>\n",
       "      <td>3.601</td>\n",
       "      <td>2086.18</td>\n",
       "      <td>NaN</td>\n",
       "      <td>8.11</td>\n",
       "      <td>602.36</td>\n",
       "      <td>5926.45</td>\n",
       "      <td>223.381296</td>\n",
       "      <td>6.573</td>\n",
       "      <td>Regular day</td>\n",
       "      <td>22764.01</td>\n",
       "      <td>42112.67</td>\n",
       "      <td>10487.17</td>\n",
       "    </tr>\n",
       "    <tr>\n",
       "      <th>19/10/2012</th>\n",
       "      <td>67.97</td>\n",
       "      <td>3.594</td>\n",
       "      <td>950.33</td>\n",
       "      <td>NaN</td>\n",
       "      <td>4.93</td>\n",
       "      <td>80.25</td>\n",
       "      <td>2312.85</td>\n",
       "      <td>223.425723</td>\n",
       "      <td>6.573</td>\n",
       "      <td>Regular day</td>\n",
       "      <td>24185.27</td>\n",
       "      <td>42354.72</td>\n",
       "      <td>8548.87</td>\n",
       "    </tr>\n",
       "    <tr>\n",
       "      <th>26/10/2012</th>\n",
       "      <td>69.16</td>\n",
       "      <td>3.506</td>\n",
       "      <td>2585.85</td>\n",
       "      <td>31.75</td>\n",
       "      <td>6.00</td>\n",
       "      <td>1057.16</td>\n",
       "      <td>1305.01</td>\n",
       "      <td>223.444251</td>\n",
       "      <td>6.573</td>\n",
       "      <td>Regular day</td>\n",
       "      <td>27390.81</td>\n",
       "      <td>43134.88</td>\n",
       "      <td>9350.90</td>\n",
       "    </tr>\n",
       "  </tbody>\n",
       "</table>\n",
       "<p>143 rows × 13 columns</p>\n",
       "</div>"
      ],
      "text/plain": [
       "            Temperature  Fuel_Price  MarkDown1  MarkDown2  MarkDown3  \\\n",
       "Date                                                                   \n",
       "5/2/10            42.31       2.572        NaN        NaN        NaN   \n",
       "12/2/10           38.51       2.548        NaN        NaN        NaN   \n",
       "19/02/2010        39.93       2.514        NaN        NaN        NaN   \n",
       "26/02/2010        46.63       2.561        NaN        NaN        NaN   \n",
       "5/3/10            46.50       2.625        NaN        NaN        NaN   \n",
       "...                 ...         ...        ...        ...        ...   \n",
       "28/09/2012        76.08       3.666    3666.27       7.64       1.65   \n",
       "5/10/12           68.55       3.617    8077.89        NaN      18.22   \n",
       "12/10/12          62.99       3.601    2086.18        NaN       8.11   \n",
       "19/10/2012        67.97       3.594     950.33        NaN       4.93   \n",
       "26/10/2012        69.16       3.506    2585.85      31.75       6.00   \n",
       "\n",
       "            MarkDown4  MarkDown5         CPI  Unemployment     Day type  \\\n",
       "Date                                                                      \n",
       "5/2/10            NaN        NaN  211.096358         8.106  Regular day   \n",
       "12/2/10           NaN        NaN  211.242170         8.106      Holiday   \n",
       "19/02/2010        NaN        NaN  211.289143         8.106  Regular day   \n",
       "26/02/2010        NaN        NaN  211.319643         8.106  Regular day   \n",
       "5/3/10            NaN        NaN  211.350143         8.106  Regular day   \n",
       "...               ...        ...         ...           ...          ...   \n",
       "28/09/2012    1417.96    4744.28  222.981658         6.908  Regular day   \n",
       "5/10/12       3617.43    3626.14  223.181477         6.573  Regular day   \n",
       "12/10/12       602.36    5926.45  223.381296         6.573  Regular day   \n",
       "19/10/2012      80.25    2312.85  223.425723         6.573  Regular day   \n",
       "26/10/2012    1057.16    1305.01  223.444251         6.573  Regular day   \n",
       "\n",
       "            dept_1 sales  dept_2 sales  dept_3 sales  \n",
       "Date                                                  \n",
       "5/2/10          24924.50      50605.27      13740.12  \n",
       "12/2/10         46039.49      44682.74      10887.84  \n",
       "19/02/2010      41595.55      47928.89      11523.47  \n",
       "26/02/2010      19403.54      44292.87      11135.17  \n",
       "5/3/10          21827.90      48397.98      12275.58  \n",
       "...                  ...           ...           ...  \n",
       "28/09/2012      18947.81      45784.76      13085.95  \n",
       "5/10/12         21904.47      48577.08      11676.98  \n",
       "12/10/12        22764.01      42112.67      10487.17  \n",
       "19/10/2012      24185.27      42354.72       8548.87  \n",
       "26/10/2012      27390.81      43134.88       9350.90  \n",
       "\n",
       "[143 rows x 13 columns]"
      ]
     },
     "execution_count": 7,
     "metadata": {},
     "output_type": "execute_result"
    }
   ],
   "source": [
    "import matplotlib.pyplot as plt\n",
    "import pandas as pd \n",
    "\n",
    "data_file = pd.read_csv(\"data.csv\", header = 0, index_col = 0)\n",
    "\n",
    "data_file"
   ]
  },
  {
   "cell_type": "markdown",
   "id": "db45f79b",
   "metadata": {},
   "source": [
    "### a) Histogram"
   ]
  },
  {
   "cell_type": "code",
   "execution_count": 8,
   "id": "910575a4",
   "metadata": {},
   "outputs": [
    {
     "data": {
      "text/plain": [
       "<AxesSubplot:ylabel='Frequency'>"
      ]
     },
     "execution_count": 8,
     "metadata": {},
     "output_type": "execute_result"
    },
    {
     "data": {
      "image/png": "[encoded data removed]",
      "text/plain": [
       "<Figure size 432x288 with 1 Axes>"
      ]
     },
     "metadata": {
      "needs_background": "light"
     },
     "output_type": "display_data"
    }
   ],
   "source": [
    "data_histogram = pd.DataFrame(data_file[\"Temperature\"])\n",
    "                         \n",
    "data_histogram.plot.hist()"
   ]
  },
  {
   "cell_type": "markdown",
   "id": "d8c92d8a",
   "metadata": {},
   "source": [
    "### b) Bar Chart"
   ]
  },
  {
   "cell_type": "code",
   "execution_count": 11,
   "id": "a5bb4aa2",
   "metadata": {},
   "outputs": [
    {
     "data": {
      "text/plain": [
       "<AxesSubplot:xlabel='Date'>"
      ]
     },
     "execution_count": 11,
     "metadata": {},
     "output_type": "execute_result"
    },
    {
     "data": {
      "image/png": "[encoded data removed]",
      "text/plain": [
       "<Figure size 432x288 with 1 Axes>"
      ]
     },
     "metadata": {
      "needs_background": "light"
     },
     "output_type": "display_data"
    }
   ],
   "source": [
    "# Bar chart \n",
    "\n",
    "data_bar_chart = pd.DataFrame(data_file, columns = [\"Unemployment\"])\n",
    "\n",
    "data_bar_chart[0:143:25].plot.bar()"
   ]
  },
  {
   "cell_type": "markdown",
   "id": "5251f526",
   "metadata": {},
   "source": [
    "### c) Line Chart "
   ]
  },
  {
   "cell_type": "code",
   "execution_count": 20,
   "id": "859bcc84",
   "metadata": {},
   "outputs": [
    {
     "data": {
      "text/plain": [
       "<AxesSubplot:xlabel='Date'>"
      ]
     },
     "execution_count": 20,
     "metadata": {},
     "output_type": "execute_result"
    },
    {
     "data": {
      "image/png": "[encoded data removed]",
      "text/plain": [
       "<Figure size 432x288 with 1 Axes>"
      ]
     },
     "metadata": {
      "needs_background": "light"
     },
     "output_type": "display_data"
    }
   ],
   "source": [
    "data_line_chart = pd.DataFrame(data_file, columns = [\"dept_1 sales\",\"dept_2 sales\",\"dept_3 sales\"])\n",
    "\n",
    "data_line_chart[0:143:25].plot()"
   ]
  },
  {
   "cell_type": "markdown",
   "id": "7964f458",
   "metadata": {},
   "source": [
    "### d) Area Chart "
   ]
  },
  {
   "cell_type": "code",
   "execution_count": 21,
   "id": "00773785",
   "metadata": {},
   "outputs": [
    {
     "data": {
      "text/plain": [
       "<AxesSubplot:xlabel='Date'>"
      ]
     },
     "execution_count": 21,
     "metadata": {},
     "output_type": "execute_result"
    },
    {
     "data": {
      "image/png": "[encoded data removed]",
      "text/plain": [
       "<Figure size 432x288 with 1 Axes>"
      ]
     },
     "metadata": {
      "needs_background": "light"
     },
     "output_type": "display_data"
    }
   ],
   "source": [
    "data_area_chart = pd.DataFrame(data_file, columns = [\"dept_1 sales\",\"dept_2 sales\",\"dept_3 sales\"])\n",
    "\n",
    "data_area_chart[0:143:25].plot.area()"
   ]
  },
  {
   "cell_type": "markdown",
   "id": "aafe0ca5",
   "metadata": {},
   "source": [
    "### e) Scatter Plot"
   ]
  },
  {
   "cell_type": "code",
   "execution_count": 29,
   "id": "b2beafba",
   "metadata": {},
   "outputs": [
    {
     "data": {
      "text/plain": [
       "<AxesSubplot:xlabel='CPI', ylabel='Unemployment'>"
      ]
     },
     "execution_count": 29,
     "metadata": {},
     "output_type": "execute_result"
    },
    {
     "data": {
      "image/png": "[encoded data removed]",
      "text/plain": [
       "<Figure size 432x288 with 1 Axes>"
      ]
     },
     "metadata": {
      "needs_background": "light"
     },
     "output_type": "display_data"
    }
   ],
   "source": [
    "\n",
    "data_file.plot.scatter (x = \"CPI\", y = \"Unemployment\")                                                \n",
    "                                                                        "
   ]
  },
  {
   "cell_type": "code",
   "execution_count": null,
   "id": "3280b72d",
   "metadata": {},
   "outputs": [],
   "source": []
  }
 ],
 "metadata": {
  "kernelspec": {
   "display_name": "Python 3 (ipykernel)",
   "language": "python",
   "name": "python3"
  },
  "language_info": {
   "codemirror_mode": {
    "name": "ipython",
    "version": 3
   },
   "file_extension": ".py",
   "mimetype": "text/x-python",
   "name": "python",
   "nbconvert_exporter": "python",
   "pygments_lexer": "ipython3",
   "version": "3.9.7"
  }
 },
 "nbformat": 4,
 "nbformat_minor": 5
}
